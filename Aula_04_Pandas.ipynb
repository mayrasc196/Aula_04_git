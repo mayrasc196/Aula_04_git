{
 "cells": [
  {
   "cell_type": "markdown",
   "metadata": {
    "id": "4vwYaEbEZ4nY"
   },
   "source": [
    "# Aula 4 - Pandas"
   ]
  },
  {
   "cell_type": "markdown",
   "metadata": {
    "id": "VrGqrCrkaCuu"
   },
   "source": [
    "Prof. Tiago Dias\n",
    "\n",
    "[Linkedin](https://www.linkedin.com/in/diasctiago/) | [Github](https://github.com/diasctiago) | [Blog](https://www.dadosaocubo.com/)\n",
    "\n",
    "Editado por: Mayra Souza Costa"
   ]
  },
  {
   "cell_type": "markdown",
   "metadata": {
    "id": "94he9PoubPgw"
   },
   "source": [
    "## Conhecendo o pandas"
   ]
  },
  {
   "cell_type": "markdown",
   "metadata": {
    "id": "bDc-ZpjtNdbi"
   },
   "source": [
    "[Documentação pandas](https://pandas.pydata.org/docs/user_guide/index.html)"
   ]
  },
  {
   "cell_type": "markdown",
   "metadata": {
    "id": "J11TWEzIPqV4"
   },
   "source": [
    "### O que é um DataFrame?"
   ]
  },
  {
   "cell_type": "markdown",
   "metadata": {
    "id": "rY6YFWxbNth8"
   },
   "source": [
    "DataFrame, é a representação de uma tabela na biblioteca pandas.\n",
    "\n",
    "| ![DataFrame](https://pandas.pydata.org/docs/_images/01_table_dataframe.svg) |\n",
    "|:--:| \n",
    "| _DataFrame_ (Fonte da imagem: [Pandas](https://pandas.pydata.org/)) |"
   ]
  },
  {
   "cell_type": "markdown",
   "metadata": {
    "id": "aIzrq3q8Pt8V"
   },
   "source": [
    "### O que é uma Series?"
   ]
  },
  {
   "cell_type": "markdown",
   "metadata": {
    "id": "S5DqS-qCNxjF"
   },
   "source": [
    "Uma Series, é a representação de cada coluna de uma tabela individual.\n",
    "\n",
    "| ![Series](https://pandas.pydata.org/docs/_images/01_table_series.svg) |\n",
    "|:--:| \n",
    "| _Series_ (Fonte da imagem: [Pandas](https://pandas.pydata.org/)) |"
   ]
  },
  {
   "cell_type": "markdown",
   "metadata": {
    "id": "VVj-kUanPvrO"
   },
   "source": [
    "### Que tipos de dados posso trabalhar no pandas?"
   ]
  },
  {
   "cell_type": "markdown",
   "metadata": {
    "id": "gAL52HuLPlew"
   },
   "source": [
    "É possível ler e gravar dados e diversas fontes com o pandas.\n",
    "\n",
    "| ![Tipos de Dados](https://pandas.pydata.org/docs/_images/02_io_readwrite.svg) |\n",
    "|:--:| \n",
    "| _Tipos de Dados_ (Fonte da imagem: [Pandas](https://pandas.pydata.org/)) |"
   ]
  },
  {
   "cell_type": "markdown",
   "metadata": {
    "id": "8RXo5si_QIpb"
   },
   "source": [
    "### Prática com o pandas"
   ]
  },
  {
   "cell_type": "code",
   "execution_count": 5,
   "metadata": {
    "id": "SX9IK5cEOR-v"
   },
   "outputs": [
    {
     "name": "stdout",
     "output_type": "stream",
     "text": [
      "Requirement already satisfied: pandas in c:\\users\\mayracosta\\anaconda3\\lib\\site-packages (1.4.2)\n",
      "Requirement already satisfied: numpy>=1.18.5 in c:\\users\\mayracosta\\anaconda3\\lib\\site-packages (from pandas) (1.21.5)\n",
      "Requirement already satisfied: pytz>=2020.1 in c:\\users\\mayracosta\\anaconda3\\lib\\site-packages (from pandas) (2021.3)\n",
      "Requirement already satisfied: python-dateutil>=2.8.1 in c:\\users\\mayracosta\\anaconda3\\lib\\site-packages (from pandas) (2.8.2)\n",
      "Requirement already satisfied: six>=1.5 in c:\\users\\mayracosta\\anaconda3\\lib\\site-packages (from python-dateutil>=2.8.1->pandas) (1.16.0)\n"
     ]
    }
   ],
   "source": [
    "# Instalação da biblioteca se necessário\n",
    "!pip install pandas"
   ]
  },
  {
   "cell_type": "code",
   "execution_count": 6,
   "metadata": {
    "id": "M6ZJ1_PrbUl_"
   },
   "outputs": [],
   "source": [
    "# importanto a biblioteca\n",
    "import pandas as pd\n"
   ]
  },
  {
   "cell_type": "code",
   "execution_count": 7,
   "metadata": {
    "id": "TQS7ZvkuD7jV"
   },
   "outputs": [],
   "source": [
    "# leitura de arquivo csv\n",
    "df_csv = pd.read_csv ('https://raw.githubusercontent.com/diasctiago/pandas/main/leads.csv')"
   ]
  },
  {
   "cell_type": "code",
   "execution_count": 14,
   "metadata": {
    "id": "3i3n-eqzD7gA"
   },
   "outputs": [
    {
     "data": {
      "text/html": [
       "<div>\n",
       "<style scoped>\n",
       "    .dataframe tbody tr th:only-of-type {\n",
       "        vertical-align: middle;\n",
       "    }\n",
       "\n",
       "    .dataframe tbody tr th {\n",
       "        vertical-align: top;\n",
       "    }\n",
       "\n",
       "    .dataframe thead th {\n",
       "        text-align: right;\n",
       "    }\n",
       "</style>\n",
       "<table border=\"1\" class=\"dataframe\">\n",
       "  <thead>\n",
       "    <tr style=\"text-align: right;\">\n",
       "      <th></th>\n",
       "      <th>id</th>\n",
       "      <th>data</th>\n",
       "      <th>UF</th>\n",
       "      <th>estado</th>\n",
       "      <th>cidade</th>\n",
       "      <th>status</th>\n",
       "      <th>origem</th>\n",
       "    </tr>\n",
       "  </thead>\n",
       "  <tbody>\n",
       "    <tr>\n",
       "      <th>0</th>\n",
       "      <td>1001</td>\n",
       "      <td>16/08/2022 13:19</td>\n",
       "      <td>BA</td>\n",
       "      <td>Bahia</td>\n",
       "      <td>Salvador</td>\n",
       "      <td>lead</td>\n",
       "      <td>Facebook</td>\n",
       "    </tr>\n",
       "    <tr>\n",
       "      <th>1</th>\n",
       "      <td>1002</td>\n",
       "      <td>16/08/2022 11:05</td>\n",
       "      <td>BA</td>\n",
       "      <td>Bahia</td>\n",
       "      <td>Salvador</td>\n",
       "      <td>lead</td>\n",
       "      <td>Facebook</td>\n",
       "    </tr>\n",
       "    <tr>\n",
       "      <th>2</th>\n",
       "      <td>1003</td>\n",
       "      <td>16/08/2022 10:33</td>\n",
       "      <td>RJ</td>\n",
       "      <td>Rio de Janeiro</td>\n",
       "      <td>Rio de Janeiro</td>\n",
       "      <td>lead</td>\n",
       "      <td>Facebook</td>\n",
       "    </tr>\n",
       "    <tr>\n",
       "      <th>3</th>\n",
       "      <td>1004</td>\n",
       "      <td>16/08/2022 09:33</td>\n",
       "      <td>BA</td>\n",
       "      <td>Bahia</td>\n",
       "      <td>Salvador</td>\n",
       "      <td>lead</td>\n",
       "      <td>Facebook</td>\n",
       "    </tr>\n",
       "    <tr>\n",
       "      <th>4</th>\n",
       "      <td>1005</td>\n",
       "      <td>16/08/2022 08:56</td>\n",
       "      <td>SP</td>\n",
       "      <td>São Paulo</td>\n",
       "      <td>São Paulo</td>\n",
       "      <td>lead</td>\n",
       "      <td>Blog</td>\n",
       "    </tr>\n",
       "  </tbody>\n",
       "</table>\n",
       "</div>"
      ],
      "text/plain": [
       "     id              data  UF          estado          cidade status    origem\n",
       "0  1001  16/08/2022 13:19  BA           Bahia        Salvador   lead  Facebook\n",
       "1  1002  16/08/2022 11:05  BA           Bahia        Salvador   lead  Facebook\n",
       "2  1003  16/08/2022 10:33  RJ  Rio de Janeiro  Rio de Janeiro   lead  Facebook\n",
       "3  1004  16/08/2022 09:33  BA           Bahia        Salvador   lead  Facebook\n",
       "4  1005  16/08/2022 08:56  SP       São Paulo       São Paulo   lead      Blog"
      ]
     },
     "execution_count": 14,
     "metadata": {},
     "output_type": "execute_result"
    }
   ],
   "source": [
    "df_csv.head()"
   ]
  },
  {
   "cell_type": "code",
   "execution_count": 8,
   "metadata": {
    "id": "X1LPqoKUO7Y3"
   },
   "outputs": [],
   "source": [
    "# leitura de arquivo txt\n",
    "df_txt = pd.read_csv('https://raw.githubusercontent.com/diasctiago/pandas/main/leads.txt', delimiter='|')\n"
   ]
  },
  {
   "cell_type": "code",
   "execution_count": 19,
   "metadata": {
    "id": "qMolWQw_O7Hb"
   },
   "outputs": [
    {
     "data": {
      "text/html": [
       "<div>\n",
       "<style scoped>\n",
       "    .dataframe tbody tr th:only-of-type {\n",
       "        vertical-align: middle;\n",
       "    }\n",
       "\n",
       "    .dataframe tbody tr th {\n",
       "        vertical-align: top;\n",
       "    }\n",
       "\n",
       "    .dataframe thead th {\n",
       "        text-align: right;\n",
       "    }\n",
       "</style>\n",
       "<table border=\"1\" class=\"dataframe\">\n",
       "  <thead>\n",
       "    <tr style=\"text-align: right;\">\n",
       "      <th></th>\n",
       "      <th>id</th>\n",
       "      <th>data</th>\n",
       "      <th>UF</th>\n",
       "      <th>estado</th>\n",
       "      <th>cidade</th>\n",
       "      <th>status</th>\n",
       "      <th>origem</th>\n",
       "    </tr>\n",
       "  </thead>\n",
       "  <tbody>\n",
       "    <tr>\n",
       "      <th>0</th>\n",
       "      <td>1001</td>\n",
       "      <td>16/08/2022 13:19</td>\n",
       "      <td>BA</td>\n",
       "      <td>Bahia</td>\n",
       "      <td>Salvador</td>\n",
       "      <td>lead</td>\n",
       "      <td>Facebook</td>\n",
       "    </tr>\n",
       "    <tr>\n",
       "      <th>1</th>\n",
       "      <td>1002</td>\n",
       "      <td>16/08/2022 11:05</td>\n",
       "      <td>BA</td>\n",
       "      <td>Bahia</td>\n",
       "      <td>Salvador</td>\n",
       "      <td>lead</td>\n",
       "      <td>Facebook</td>\n",
       "    </tr>\n",
       "    <tr>\n",
       "      <th>2</th>\n",
       "      <td>1003</td>\n",
       "      <td>16/08/2022 10:33</td>\n",
       "      <td>RJ</td>\n",
       "      <td>Rio de Janeiro</td>\n",
       "      <td>Rio de Janeiro</td>\n",
       "      <td>lead</td>\n",
       "      <td>Facebook</td>\n",
       "    </tr>\n",
       "    <tr>\n",
       "      <th>3</th>\n",
       "      <td>1004</td>\n",
       "      <td>16/08/2022 09:33</td>\n",
       "      <td>BA</td>\n",
       "      <td>Bahia</td>\n",
       "      <td>Salvador</td>\n",
       "      <td>lead</td>\n",
       "      <td>Facebook</td>\n",
       "    </tr>\n",
       "    <tr>\n",
       "      <th>4</th>\n",
       "      <td>1005</td>\n",
       "      <td>16/08/2022 08:56</td>\n",
       "      <td>SP</td>\n",
       "      <td>São Paulo</td>\n",
       "      <td>São Paulo</td>\n",
       "      <td>lead</td>\n",
       "      <td>Blog</td>\n",
       "    </tr>\n",
       "  </tbody>\n",
       "</table>\n",
       "</div>"
      ],
      "text/plain": [
       "     id              data  UF          estado          cidade status    origem\n",
       "0  1001  16/08/2022 13:19  BA           Bahia        Salvador   lead  Facebook\n",
       "1  1002  16/08/2022 11:05  BA           Bahia        Salvador   lead  Facebook\n",
       "2  1003  16/08/2022 10:33  RJ  Rio de Janeiro  Rio de Janeiro   lead  Facebook\n",
       "3  1004  16/08/2022 09:33  BA           Bahia        Salvador   lead  Facebook\n",
       "4  1005  16/08/2022 08:56  SP       São Paulo       São Paulo   lead      Blog"
      ]
     },
     "execution_count": 19,
     "metadata": {},
     "output_type": "execute_result"
    }
   ],
   "source": [
    "df_txt.head()"
   ]
  },
  {
   "cell_type": "code",
   "execution_count": 11,
   "metadata": {
    "id": "GQRDxIJwPiCm"
   },
   "outputs": [],
   "source": [
    "# leitura de arquivo excel\n",
    "df_excel = pd.read_excel('https://github.com/diasctiago/pandas/blob/main/leads.xlsx?raw=true')"
   ]
  },
  {
   "cell_type": "code",
   "execution_count": 12,
   "metadata": {
    "id": "GpgAivZEPhxW"
   },
   "outputs": [
    {
     "data": {
      "text/html": [
       "<div>\n",
       "<style scoped>\n",
       "    .dataframe tbody tr th:only-of-type {\n",
       "        vertical-align: middle;\n",
       "    }\n",
       "\n",
       "    .dataframe tbody tr th {\n",
       "        vertical-align: top;\n",
       "    }\n",
       "\n",
       "    .dataframe thead th {\n",
       "        text-align: right;\n",
       "    }\n",
       "</style>\n",
       "<table border=\"1\" class=\"dataframe\">\n",
       "  <thead>\n",
       "    <tr style=\"text-align: right;\">\n",
       "      <th></th>\n",
       "      <th>id</th>\n",
       "      <th>data</th>\n",
       "      <th>UF</th>\n",
       "      <th>estado</th>\n",
       "      <th>cidade</th>\n",
       "      <th>status</th>\n",
       "      <th>origem</th>\n",
       "    </tr>\n",
       "  </thead>\n",
       "  <tbody>\n",
       "    <tr>\n",
       "      <th>0</th>\n",
       "      <td>1001</td>\n",
       "      <td>2022-08-16 13:19:00</td>\n",
       "      <td>BA</td>\n",
       "      <td>Bahia</td>\n",
       "      <td>Salvador</td>\n",
       "      <td>lead</td>\n",
       "      <td>Facebook</td>\n",
       "    </tr>\n",
       "    <tr>\n",
       "      <th>1</th>\n",
       "      <td>1002</td>\n",
       "      <td>2022-08-16 11:05:00</td>\n",
       "      <td>BA</td>\n",
       "      <td>Bahia</td>\n",
       "      <td>Salvador</td>\n",
       "      <td>lead</td>\n",
       "      <td>Facebook</td>\n",
       "    </tr>\n",
       "    <tr>\n",
       "      <th>2</th>\n",
       "      <td>1003</td>\n",
       "      <td>2022-08-16 10:33:00</td>\n",
       "      <td>RJ</td>\n",
       "      <td>Rio de Janeiro</td>\n",
       "      <td>Rio de Janeiro</td>\n",
       "      <td>lead</td>\n",
       "      <td>Facebook</td>\n",
       "    </tr>\n",
       "    <tr>\n",
       "      <th>3</th>\n",
       "      <td>1004</td>\n",
       "      <td>2022-08-16 09:33:00</td>\n",
       "      <td>BA</td>\n",
       "      <td>Bahia</td>\n",
       "      <td>Salvador</td>\n",
       "      <td>lead</td>\n",
       "      <td>Facebook</td>\n",
       "    </tr>\n",
       "    <tr>\n",
       "      <th>4</th>\n",
       "      <td>1005</td>\n",
       "      <td>2022-08-16 08:56:00</td>\n",
       "      <td>SP</td>\n",
       "      <td>São Paulo</td>\n",
       "      <td>São Paulo</td>\n",
       "      <td>lead</td>\n",
       "      <td>Blog</td>\n",
       "    </tr>\n",
       "  </tbody>\n",
       "</table>\n",
       "</div>"
      ],
      "text/plain": [
       "     id                data  UF          estado          cidade status  \\\n",
       "0  1001 2022-08-16 13:19:00  BA           Bahia        Salvador   lead   \n",
       "1  1002 2022-08-16 11:05:00  BA           Bahia        Salvador   lead   \n",
       "2  1003 2022-08-16 10:33:00  RJ  Rio de Janeiro  Rio de Janeiro   lead   \n",
       "3  1004 2022-08-16 09:33:00  BA           Bahia        Salvador   lead   \n",
       "4  1005 2022-08-16 08:56:00  SP       São Paulo       São Paulo   lead   \n",
       "\n",
       "     origem  \n",
       "0  Facebook  \n",
       "1  Facebook  \n",
       "2  Facebook  \n",
       "3  Facebook  \n",
       "4      Blog  "
      ]
     },
     "execution_count": 12,
     "metadata": {},
     "output_type": "execute_result"
    }
   ],
   "source": [
    "df_excel.head()"
   ]
  },
  {
   "cell_type": "code",
   "execution_count": 13,
   "metadata": {
    "id": "hU1kbGAmEdWw"
   },
   "outputs": [],
   "source": [
    "# leitura de arquivo json\n",
    "df_json = pd.read_json('https://raw.githubusercontent.com/diasctiago/pandas/main/leads.json')\n"
   ]
  },
  {
   "cell_type": "code",
   "execution_count": 27,
   "metadata": {
    "id": "BA3P4EQqNrGv"
   },
   "outputs": [
    {
     "data": {
      "text/html": [
       "<div>\n",
       "<style scoped>\n",
       "    .dataframe tbody tr th:only-of-type {\n",
       "        vertical-align: middle;\n",
       "    }\n",
       "\n",
       "    .dataframe tbody tr th {\n",
       "        vertical-align: top;\n",
       "    }\n",
       "\n",
       "    .dataframe thead th {\n",
       "        text-align: right;\n",
       "    }\n",
       "</style>\n",
       "<table border=\"1\" class=\"dataframe\">\n",
       "  <thead>\n",
       "    <tr style=\"text-align: right;\">\n",
       "      <th></th>\n",
       "      <th>id</th>\n",
       "      <th>data</th>\n",
       "      <th>endereço</th>\n",
       "      <th>status</th>\n",
       "      <th>origem</th>\n",
       "    </tr>\n",
       "  </thead>\n",
       "  <tbody>\n",
       "    <tr>\n",
       "      <th>0</th>\n",
       "      <td>1001</td>\n",
       "      <td>16/08/2022 13:19</td>\n",
       "      <td>{'UF': 'BA', 'estado': 'Bahia', 'cidade': 'Sal...</td>\n",
       "      <td>lead</td>\n",
       "      <td>Facebook</td>\n",
       "    </tr>\n",
       "    <tr>\n",
       "      <th>1</th>\n",
       "      <td>1002</td>\n",
       "      <td>16/08/2022 11:05</td>\n",
       "      <td>{'UF': 'BA', 'estado': 'Bahia', 'cidade': 'Sal...</td>\n",
       "      <td>lead</td>\n",
       "      <td>Facebook</td>\n",
       "    </tr>\n",
       "    <tr>\n",
       "      <th>2</th>\n",
       "      <td>1003</td>\n",
       "      <td>16/08/2022 10:33</td>\n",
       "      <td>{'UF': 'RJ', 'estado': 'Rio de Janeiro', 'cida...</td>\n",
       "      <td>lead</td>\n",
       "      <td>Facebook</td>\n",
       "    </tr>\n",
       "  </tbody>\n",
       "</table>\n",
       "</div>"
      ],
      "text/plain": [
       "     id              data                                           endereço  \\\n",
       "0  1001  16/08/2022 13:19  {'UF': 'BA', 'estado': 'Bahia', 'cidade': 'Sal...   \n",
       "1  1002  16/08/2022 11:05  {'UF': 'BA', 'estado': 'Bahia', 'cidade': 'Sal...   \n",
       "2  1003  16/08/2022 10:33  {'UF': 'RJ', 'estado': 'Rio de Janeiro', 'cida...   \n",
       "\n",
       "  status    origem  \n",
       "0   lead  Facebook  \n",
       "1   lead  Facebook  \n",
       "2   lead  Facebook  "
      ]
     },
     "execution_count": 27,
     "metadata": {},
     "output_type": "execute_result"
    }
   ],
   "source": [
    "df_json.head()"
   ]
  },
  {
   "cell_type": "code",
   "execution_count": 14,
   "metadata": {
    "id": "Qr2ATn94InD_"
   },
   "outputs": [],
   "source": [
    "# normalizando os dados de um json\n",
    "import json"
   ]
  },
  {
   "cell_type": "code",
   "execution_count": 15,
   "metadata": {},
   "outputs": [
    {
     "name": "stdout",
     "output_type": "stream",
     "text": [
      "Requirement already satisfied: urllib3 in c:\\users\\mayracosta\\anaconda3\\lib\\site-packages (1.26.9)\n"
     ]
    }
   ],
   "source": [
    "!pip install urllib3"
   ]
  },
  {
   "cell_type": "code",
   "execution_count": 45,
   "metadata": {},
   "outputs": [
    {
     "name": "stdout",
     "output_type": "stream",
     "text": [
      "Requirement already satisfied: requests in c:\\users\\mayracosta\\anaconda3\\lib\\site-packages (2.27.1)\n",
      "Requirement already satisfied: idna<4,>=2.5 in c:\\users\\mayracosta\\anaconda3\\lib\\site-packages (from requests) (3.3)\n",
      "Requirement already satisfied: urllib3<1.27,>=1.21.1 in c:\\users\\mayracosta\\anaconda3\\lib\\site-packages (from requests) (1.26.9)\n",
      "Requirement already satisfied: charset-normalizer~=2.0.0 in c:\\users\\mayracosta\\anaconda3\\lib\\site-packages (from requests) (2.0.4)\n",
      "Requirement already satisfied: certifi>=2017.4.17 in c:\\users\\mayracosta\\anaconda3\\lib\\site-packages (from requests) (2021.10.8)\n"
     ]
    }
   ],
   "source": [
    "!pip install requests"
   ]
  },
  {
   "cell_type": "code",
   "execution_count": 53,
   "metadata": {},
   "outputs": [],
   "source": [
    "from urllib import request"
   ]
  },
  {
   "cell_type": "code",
   "execution_count": 54,
   "metadata": {
    "id": "RY-Hw_LqMqcf"
   },
   "outputs": [],
   "source": [
    "with request.urlopen('https://raw.githubusercontent.com/diasctiago/pandas/main/leads.json') as arquivo:\n",
    "    dados_json = json.load(arquivo)"
   ]
  },
  {
   "cell_type": "code",
   "execution_count": 45,
   "metadata": {
    "id": "QikLt8_ZIT_D"
   },
   "outputs": [
    {
     "ename": "NameError",
     "evalue": "name 'dados_json' is not defined",
     "output_type": "error",
     "traceback": [
      "\u001b[1;31m---------------------------------------------------------------------------\u001b[0m",
      "\u001b[1;31mNameError\u001b[0m                                 Traceback (most recent call last)",
      "Input \u001b[1;32mIn [45]\u001b[0m, in \u001b[0;36m<cell line: 1>\u001b[1;34m()\u001b[0m\n\u001b[1;32m----> 1\u001b[0m df_json_norma \u001b[38;5;241m=\u001b[39m pd\u001b[38;5;241m.\u001b[39mjson_normalize(\u001b[43mdados_json\u001b[49m)\n",
      "\u001b[1;31mNameError\u001b[0m: name 'dados_json' is not defined"
     ]
    }
   ],
   "source": [
    "df_json_norma = pd.json_normalize(dados_json)"
   ]
  },
  {
   "cell_type": "code",
   "execution_count": 59,
   "metadata": {},
   "outputs": [
    {
     "data": {
      "text/html": [
       "<div>\n",
       "<style scoped>\n",
       "    .dataframe tbody tr th:only-of-type {\n",
       "        vertical-align: middle;\n",
       "    }\n",
       "\n",
       "    .dataframe tbody tr th {\n",
       "        vertical-align: top;\n",
       "    }\n",
       "\n",
       "    .dataframe thead th {\n",
       "        text-align: right;\n",
       "    }\n",
       "</style>\n",
       "<table border=\"1\" class=\"dataframe\">\n",
       "  <thead>\n",
       "    <tr style=\"text-align: right;\">\n",
       "      <th></th>\n",
       "      <th>id</th>\n",
       "      <th>data</th>\n",
       "      <th>status</th>\n",
       "      <th>origem</th>\n",
       "      <th>endereço.UF</th>\n",
       "      <th>endereço.estado</th>\n",
       "      <th>endereço.cidade</th>\n",
       "    </tr>\n",
       "  </thead>\n",
       "  <tbody>\n",
       "    <tr>\n",
       "      <th>0</th>\n",
       "      <td>1001</td>\n",
       "      <td>16/08/2022 13:19</td>\n",
       "      <td>lead</td>\n",
       "      <td>Facebook</td>\n",
       "      <td>BA</td>\n",
       "      <td>Bahia</td>\n",
       "      <td>Salvador</td>\n",
       "    </tr>\n",
       "    <tr>\n",
       "      <th>1</th>\n",
       "      <td>1002</td>\n",
       "      <td>16/08/2022 11:05</td>\n",
       "      <td>lead</td>\n",
       "      <td>Facebook</td>\n",
       "      <td>BA</td>\n",
       "      <td>Bahia</td>\n",
       "      <td>Salvador</td>\n",
       "    </tr>\n",
       "    <tr>\n",
       "      <th>2</th>\n",
       "      <td>1003</td>\n",
       "      <td>16/08/2022 10:33</td>\n",
       "      <td>lead</td>\n",
       "      <td>Facebook</td>\n",
       "      <td>RJ</td>\n",
       "      <td>Rio de Janeiro</td>\n",
       "      <td>Rio de Janeiro</td>\n",
       "    </tr>\n",
       "  </tbody>\n",
       "</table>\n",
       "</div>"
      ],
      "text/plain": [
       "     id              data status    origem endereço.UF endereço.estado  \\\n",
       "0  1001  16/08/2022 13:19   lead  Facebook          BA           Bahia   \n",
       "1  1002  16/08/2022 11:05   lead  Facebook          BA           Bahia   \n",
       "2  1003  16/08/2022 10:33   lead  Facebook          RJ  Rio de Janeiro   \n",
       "\n",
       "  endereço.cidade  \n",
       "0        Salvador  \n",
       "1        Salvador  \n",
       "2  Rio de Janeiro  "
      ]
     },
     "execution_count": 59,
     "metadata": {},
     "output_type": "execute_result"
    }
   ],
   "source": [
    "df_json_norma.head()"
   ]
  },
  {
   "cell_type": "code",
   "execution_count": 17,
   "metadata": {},
   "outputs": [],
   "source": [
    "# lendo um arquivo csv a partir da base de dados gov.br\n",
    "df = pd.read_csv('http://dados.agricultura.gov.br/dataset/420c0514-92da-4888-be85-290a0785e8a9/resource/65cce855-685e-4cfa-b3a4-2d192fc83b4e/download/rfflorestasplantadasibge2014-2016.csv',\n",
    "                 encoding='Windows 1252',\n",
    "                 delimiter=';')"
   ]
  },
  {
   "cell_type": "code",
   "execution_count": 21,
   "metadata": {
    "id": "-jZbrX18MSEm"
   },
   "outputs": [
    {
     "data": {
      "text/html": [
       "<div>\n",
       "<style scoped>\n",
       "    .dataframe tbody tr th:only-of-type {\n",
       "        vertical-align: middle;\n",
       "    }\n",
       "\n",
       "    .dataframe tbody tr th {\n",
       "        vertical-align: top;\n",
       "    }\n",
       "\n",
       "    .dataframe thead th {\n",
       "        text-align: right;\n",
       "    }\n",
       "</style>\n",
       "<table border=\"1\" class=\"dataframe\">\n",
       "  <thead>\n",
       "    <tr style=\"text-align: right;\">\n",
       "      <th></th>\n",
       "      <th>Ano (data)</th>\n",
       "      <th>País</th>\n",
       "      <th>Região</th>\n",
       "      <th>Estado</th>\n",
       "      <th>Estado sigla</th>\n",
       "      <th>Município (Municípios)</th>\n",
       "      <th>Município Estado</th>\n",
       "      <th>Latitude</th>\n",
       "      <th>Longitude</th>\n",
       "      <th>Espécie florestal</th>\n",
       "      <th>Área (ha)</th>\n",
       "    </tr>\n",
       "  </thead>\n",
       "  <tbody>\n",
       "    <tr>\n",
       "      <th>0</th>\n",
       "      <td>31/12/2014</td>\n",
       "      <td>Brasil</td>\n",
       "      <td>Norte</td>\n",
       "      <td>Rondônia</td>\n",
       "      <td>RO</td>\n",
       "      <td>Alta Floresta D'Oeste</td>\n",
       "      <td>Alta Floresta D'Oeste (RO)</td>\n",
       "      <td>-12,47</td>\n",
       "      <td>-62,27</td>\n",
       "      <td>Eucalipto</td>\n",
       "      <td>0.0</td>\n",
       "    </tr>\n",
       "    <tr>\n",
       "      <th>1</th>\n",
       "      <td>31/12/2015</td>\n",
       "      <td>Brasil</td>\n",
       "      <td>Norte</td>\n",
       "      <td>Rondônia</td>\n",
       "      <td>RO</td>\n",
       "      <td>Alta Floresta D'Oeste</td>\n",
       "      <td>Alta Floresta D'Oeste (RO)</td>\n",
       "      <td>-12,47</td>\n",
       "      <td>-62,27</td>\n",
       "      <td>Eucalipto</td>\n",
       "      <td>0.0</td>\n",
       "    </tr>\n",
       "    <tr>\n",
       "      <th>2</th>\n",
       "      <td>31/12/2016</td>\n",
       "      <td>Brasil</td>\n",
       "      <td>Norte</td>\n",
       "      <td>Rondônia</td>\n",
       "      <td>RO</td>\n",
       "      <td>Alta Floresta D'Oeste</td>\n",
       "      <td>Alta Floresta D'Oeste (RO)</td>\n",
       "      <td>-12,47</td>\n",
       "      <td>-62,27</td>\n",
       "      <td>Eucalipto</td>\n",
       "      <td>0.0</td>\n",
       "    </tr>\n",
       "    <tr>\n",
       "      <th>3</th>\n",
       "      <td>31/12/2014</td>\n",
       "      <td>Brasil</td>\n",
       "      <td>Norte</td>\n",
       "      <td>Rondônia</td>\n",
       "      <td>RO</td>\n",
       "      <td>Alta Floresta D'Oeste</td>\n",
       "      <td>Alta Floresta D'Oeste (RO)</td>\n",
       "      <td>-12,47</td>\n",
       "      <td>-62,27</td>\n",
       "      <td>Pinus</td>\n",
       "      <td>0.0</td>\n",
       "    </tr>\n",
       "    <tr>\n",
       "      <th>4</th>\n",
       "      <td>31/12/2015</td>\n",
       "      <td>Brasil</td>\n",
       "      <td>Norte</td>\n",
       "      <td>Rondônia</td>\n",
       "      <td>RO</td>\n",
       "      <td>Alta Floresta D'Oeste</td>\n",
       "      <td>Alta Floresta D'Oeste (RO)</td>\n",
       "      <td>-12,47</td>\n",
       "      <td>-62,27</td>\n",
       "      <td>Pinus</td>\n",
       "      <td>0.0</td>\n",
       "    </tr>\n",
       "  </tbody>\n",
       "</table>\n",
       "</div>"
      ],
      "text/plain": [
       "   Ano (data)    País Região    Estado Estado sigla Município (Municípios)  \\\n",
       "0  31/12/2014  Brasil  Norte  Rondônia           RO  Alta Floresta D'Oeste   \n",
       "1  31/12/2015  Brasil  Norte  Rondônia           RO  Alta Floresta D'Oeste   \n",
       "2  31/12/2016  Brasil  Norte  Rondônia           RO  Alta Floresta D'Oeste   \n",
       "3  31/12/2014  Brasil  Norte  Rondônia           RO  Alta Floresta D'Oeste   \n",
       "4  31/12/2015  Brasil  Norte  Rondônia           RO  Alta Floresta D'Oeste   \n",
       "\n",
       "             Município Estado Latitude Longitude Espécie florestal  Área (ha)  \n",
       "0  Alta Floresta D'Oeste (RO)   -12,47    -62,27         Eucalipto        0.0  \n",
       "1  Alta Floresta D'Oeste (RO)   -12,47    -62,27         Eucalipto        0.0  \n",
       "2  Alta Floresta D'Oeste (RO)   -12,47    -62,27         Eucalipto        0.0  \n",
       "3  Alta Floresta D'Oeste (RO)   -12,47    -62,27             Pinus        0.0  \n",
       "4  Alta Floresta D'Oeste (RO)   -12,47    -62,27             Pinus        0.0  "
      ]
     },
     "execution_count": 21,
     "metadata": {},
     "output_type": "execute_result"
    }
   ],
   "source": [
    "# verificando as primeiras linhas do arquivo\n",
    "df.head()"
   ]
  },
  {
   "cell_type": "code",
   "execution_count": 19,
   "metadata": {
    "id": "Eof2FR54MSA7"
   },
   "outputs": [
    {
     "data": {
      "text/html": [
       "<div>\n",
       "<style scoped>\n",
       "    .dataframe tbody tr th:only-of-type {\n",
       "        vertical-align: middle;\n",
       "    }\n",
       "\n",
       "    .dataframe tbody tr th {\n",
       "        vertical-align: top;\n",
       "    }\n",
       "\n",
       "    .dataframe thead th {\n",
       "        text-align: right;\n",
       "    }\n",
       "</style>\n",
       "<table border=\"1\" class=\"dataframe\">\n",
       "  <thead>\n",
       "    <tr style=\"text-align: right;\">\n",
       "      <th></th>\n",
       "      <th>Ano (data)</th>\n",
       "      <th>País</th>\n",
       "      <th>Região</th>\n",
       "      <th>Estado</th>\n",
       "      <th>Estado sigla</th>\n",
       "      <th>Município (Municípios)</th>\n",
       "      <th>Município Estado</th>\n",
       "      <th>Latitude</th>\n",
       "      <th>Longitude</th>\n",
       "      <th>Espécie florestal</th>\n",
       "      <th>Área (ha)</th>\n",
       "    </tr>\n",
       "  </thead>\n",
       "  <tbody>\n",
       "    <tr>\n",
       "      <th>31009</th>\n",
       "      <td>31/12/2015</td>\n",
       "      <td>Brasil</td>\n",
       "      <td>Centro Oeste</td>\n",
       "      <td>Distrito Federal</td>\n",
       "      <td>DF</td>\n",
       "      <td>Brasília</td>\n",
       "      <td>Brasília (DF)</td>\n",
       "      <td>-15,78</td>\n",
       "      <td>-47,8</td>\n",
       "      <td>Pinus</td>\n",
       "      <td>1000.0</td>\n",
       "    </tr>\n",
       "    <tr>\n",
       "      <th>31010</th>\n",
       "      <td>31/12/2016</td>\n",
       "      <td>Brasil</td>\n",
       "      <td>Centro Oeste</td>\n",
       "      <td>Distrito Federal</td>\n",
       "      <td>DF</td>\n",
       "      <td>Brasília</td>\n",
       "      <td>Brasília (DF)</td>\n",
       "      <td>-15,78</td>\n",
       "      <td>-47,8</td>\n",
       "      <td>Pinus</td>\n",
       "      <td>700.0</td>\n",
       "    </tr>\n",
       "    <tr>\n",
       "      <th>31011</th>\n",
       "      <td>31/12/2014</td>\n",
       "      <td>Brasil</td>\n",
       "      <td>Centro Oeste</td>\n",
       "      <td>Distrito Federal</td>\n",
       "      <td>DF</td>\n",
       "      <td>Brasília</td>\n",
       "      <td>Brasília (DF)</td>\n",
       "      <td>-15,78</td>\n",
       "      <td>-47,8</td>\n",
       "      <td>Outras espécies</td>\n",
       "      <td>0.0</td>\n",
       "    </tr>\n",
       "    <tr>\n",
       "      <th>31012</th>\n",
       "      <td>31/12/2015</td>\n",
       "      <td>Brasil</td>\n",
       "      <td>Centro Oeste</td>\n",
       "      <td>Distrito Federal</td>\n",
       "      <td>DF</td>\n",
       "      <td>Brasília</td>\n",
       "      <td>Brasília (DF)</td>\n",
       "      <td>-15,78</td>\n",
       "      <td>-47,8</td>\n",
       "      <td>Outras espécies</td>\n",
       "      <td>0.0</td>\n",
       "    </tr>\n",
       "    <tr>\n",
       "      <th>31013</th>\n",
       "      <td>31/12/2016</td>\n",
       "      <td>Brasil</td>\n",
       "      <td>Centro Oeste</td>\n",
       "      <td>Distrito Federal</td>\n",
       "      <td>DF</td>\n",
       "      <td>Brasília</td>\n",
       "      <td>Brasília (DF)</td>\n",
       "      <td>-15,78</td>\n",
       "      <td>-47,8</td>\n",
       "      <td>Outras espécies</td>\n",
       "      <td>0.0</td>\n",
       "    </tr>\n",
       "  </tbody>\n",
       "</table>\n",
       "</div>"
      ],
      "text/plain": [
       "       Ano (data)    País        Região            Estado Estado sigla  \\\n",
       "31009  31/12/2015  Brasil  Centro Oeste  Distrito Federal           DF   \n",
       "31010  31/12/2016  Brasil  Centro Oeste  Distrito Federal           DF   \n",
       "31011  31/12/2014  Brasil  Centro Oeste  Distrito Federal           DF   \n",
       "31012  31/12/2015  Brasil  Centro Oeste  Distrito Federal           DF   \n",
       "31013  31/12/2016  Brasil  Centro Oeste  Distrito Federal           DF   \n",
       "\n",
       "      Município (Municípios) Município Estado Latitude Longitude  \\\n",
       "31009               Brasília    Brasília (DF)   -15,78     -47,8   \n",
       "31010               Brasília    Brasília (DF)   -15,78     -47,8   \n",
       "31011               Brasília    Brasília (DF)   -15,78     -47,8   \n",
       "31012               Brasília    Brasília (DF)   -15,78     -47,8   \n",
       "31013               Brasília    Brasília (DF)   -15,78     -47,8   \n",
       "\n",
       "      Espécie florestal  Área (ha)  \n",
       "31009             Pinus     1000.0  \n",
       "31010             Pinus      700.0  \n",
       "31011   Outras espécies        0.0  \n",
       "31012   Outras espécies        0.0  \n",
       "31013   Outras espécies        0.0  "
      ]
     },
     "execution_count": 19,
     "metadata": {},
     "output_type": "execute_result"
    }
   ],
   "source": [
    "# verificando as última linhas do arquivo\n",
    "df.tail()"
   ]
  },
  {
   "cell_type": "code",
   "execution_count": 64,
   "metadata": {
    "id": "3UMuSxz4TCVD"
   },
   "outputs": [
    {
     "data": {
      "text/plain": [
       "Index(['Ano (data)', 'País', 'Região', 'Estado', 'Estado sigla',\n",
       "       'Município (Municípios)', 'Município Estado', 'Latitude', 'Longitude',\n",
       "       'Espécie florestal', 'Área (ha)'],\n",
       "      dtype='object')"
      ]
     },
     "execution_count": 64,
     "metadata": {},
     "output_type": "execute_result"
    }
   ],
   "source": [
    "# verificando os nomes das colunas carregadas\n",
    "df.columns"
   ]
  },
  {
   "cell_type": "code",
   "execution_count": 65,
   "metadata": {
    "id": "Z8nI5plu6kkQ"
   },
   "outputs": [
    {
     "data": {
      "text/plain": [
       "RangeIndex(start=0, stop=31014, step=1)"
      ]
     },
     "execution_count": 65,
     "metadata": {},
     "output_type": "execute_result"
    }
   ],
   "source": [
    "# verificando o indice\n",
    "df.index"
   ]
  },
  {
   "cell_type": "code",
   "execution_count": 66,
   "metadata": {
    "id": "TrPz3fMWTNvc"
   },
   "outputs": [
    {
     "name": "stdout",
     "output_type": "stream",
     "text": [
      "<class 'pandas.core.frame.DataFrame'>\n",
      "RangeIndex: 31014 entries, 0 to 31013\n",
      "Data columns (total 11 columns):\n",
      " #   Column                  Non-Null Count  Dtype  \n",
      "---  ------                  --------------  -----  \n",
      " 0   Ano (data)              31014 non-null  object \n",
      " 1   País                    31014 non-null  object \n",
      " 2   Região                  31014 non-null  object \n",
      " 3   Estado                  31014 non-null  object \n",
      " 4   Estado sigla            31014 non-null  object \n",
      " 5   Município (Municípios)  31014 non-null  object \n",
      " 6   Município Estado        31014 non-null  object \n",
      " 7   Latitude                31014 non-null  object \n",
      " 8   Longitude               31014 non-null  object \n",
      " 9   Espécie florestal       31014 non-null  object \n",
      " 10  Área (ha)               29658 non-null  float64\n",
      "dtypes: float64(1), object(10)\n",
      "memory usage: 2.6+ MB\n"
     ]
    }
   ],
   "source": [
    "# verificado as informações dos dados\n",
    "df.info()"
   ]
  },
  {
   "cell_type": "code",
   "execution_count": 67,
   "metadata": {},
   "outputs": [
    {
     "data": {
      "text/plain": [
       "pandas.core.frame.DataFrame"
      ]
     },
     "execution_count": 67,
     "metadata": {},
     "output_type": "execute_result"
    }
   ],
   "source": [
    "type(df)"
   ]
  },
  {
   "cell_type": "code",
   "execution_count": 22,
   "metadata": {
    "id": "WoRGZfXETWAs"
   },
   "outputs": [
    {
     "data": {
      "text/plain": [
       "(31014, 11)"
      ]
     },
     "execution_count": 22,
     "metadata": {},
     "output_type": "execute_result"
    }
   ],
   "source": [
    "# quantidadede linhas e colunas\n",
    "df.shape"
   ]
  },
  {
   "cell_type": "markdown",
   "metadata": {
    "id": "_BIVSW9VTioe"
   },
   "source": [
    "Como selecionar colunas específicas do DataFrame.\n",
    "\n",
    "| ![Colunas dos Dados](https://pandas.pydata.org/docs/_images/03_subset_columns.svg) |\n",
    "|:--:| \n",
    "| _Colunas dos Dados_ (Fonte da imagem: [Pandas](https://pandas.pydata.org/)) |"
   ]
  },
  {
   "cell_type": "code",
   "execution_count": 24,
   "metadata": {
    "id": "j64uNOSoTbQE"
   },
   "outputs": [
    {
     "data": {
      "text/html": [
       "<div>\n",
       "<style scoped>\n",
       "    .dataframe tbody tr th:only-of-type {\n",
       "        vertical-align: middle;\n",
       "    }\n",
       "\n",
       "    .dataframe tbody tr th {\n",
       "        vertical-align: top;\n",
       "    }\n",
       "\n",
       "    .dataframe thead th {\n",
       "        text-align: right;\n",
       "    }\n",
       "</style>\n",
       "<table border=\"1\" class=\"dataframe\">\n",
       "  <thead>\n",
       "    <tr style=\"text-align: right;\">\n",
       "      <th></th>\n",
       "      <th>Ano (data)</th>\n",
       "      <th>Área (ha)</th>\n",
       "    </tr>\n",
       "  </thead>\n",
       "  <tbody>\n",
       "    <tr>\n",
       "      <th>0</th>\n",
       "      <td>31/12/2014</td>\n",
       "      <td>0.0</td>\n",
       "    </tr>\n",
       "    <tr>\n",
       "      <th>1</th>\n",
       "      <td>31/12/2015</td>\n",
       "      <td>0.0</td>\n",
       "    </tr>\n",
       "    <tr>\n",
       "      <th>2</th>\n",
       "      <td>31/12/2016</td>\n",
       "      <td>0.0</td>\n",
       "    </tr>\n",
       "    <tr>\n",
       "      <th>3</th>\n",
       "      <td>31/12/2014</td>\n",
       "      <td>0.0</td>\n",
       "    </tr>\n",
       "    <tr>\n",
       "      <th>4</th>\n",
       "      <td>31/12/2015</td>\n",
       "      <td>0.0</td>\n",
       "    </tr>\n",
       "    <tr>\n",
       "      <th>...</th>\n",
       "      <td>...</td>\n",
       "      <td>...</td>\n",
       "    </tr>\n",
       "    <tr>\n",
       "      <th>31009</th>\n",
       "      <td>31/12/2015</td>\n",
       "      <td>1000.0</td>\n",
       "    </tr>\n",
       "    <tr>\n",
       "      <th>31010</th>\n",
       "      <td>31/12/2016</td>\n",
       "      <td>700.0</td>\n",
       "    </tr>\n",
       "    <tr>\n",
       "      <th>31011</th>\n",
       "      <td>31/12/2014</td>\n",
       "      <td>0.0</td>\n",
       "    </tr>\n",
       "    <tr>\n",
       "      <th>31012</th>\n",
       "      <td>31/12/2015</td>\n",
       "      <td>0.0</td>\n",
       "    </tr>\n",
       "    <tr>\n",
       "      <th>31013</th>\n",
       "      <td>31/12/2016</td>\n",
       "      <td>0.0</td>\n",
       "    </tr>\n",
       "  </tbody>\n",
       "</table>\n",
       "<p>31014 rows × 2 columns</p>\n",
       "</div>"
      ],
      "text/plain": [
       "       Ano (data)  Área (ha)\n",
       "0      31/12/2014        0.0\n",
       "1      31/12/2015        0.0\n",
       "2      31/12/2016        0.0\n",
       "3      31/12/2014        0.0\n",
       "4      31/12/2015        0.0\n",
       "...           ...        ...\n",
       "31009  31/12/2015     1000.0\n",
       "31010  31/12/2016      700.0\n",
       "31011  31/12/2014        0.0\n",
       "31012  31/12/2015        0.0\n",
       "31013  31/12/2016        0.0\n",
       "\n",
       "[31014 rows x 2 columns]"
      ]
     },
     "execution_count": 24,
     "metadata": {},
     "output_type": "execute_result"
    }
   ],
   "source": [
    "# No Numpy um colchete vetor, dois colchetes matriz\n",
    "\n",
    "df[['Ano (data)', 'Área (ha)']]"
   ]
  },
  {
   "cell_type": "markdown",
   "metadata": {
    "id": "qlJvaWCKT3WK"
   },
   "source": [
    "Como selecionar linhas específicas do DataFrame.\n",
    "\n",
    "| ![Linhas dos Dados](https://pandas.pydata.org/docs/_images/03_subset_rows.svg) |\n",
    "|:--:| \n",
    "| _Linhas dos Dados_ (Fonte da imagem: [Pandas](https://pandas.pydata.org/)) |"
   ]
  },
  {
   "cell_type": "code",
   "execution_count": 25,
   "metadata": {
    "id": "v927pFANHOjI"
   },
   "outputs": [
    {
     "data": {
      "text/plain": [
       "0        False\n",
       "1        False\n",
       "2        False\n",
       "3        False\n",
       "4        False\n",
       "         ...  \n",
       "31009    False\n",
       "31010    False\n",
       "31011    False\n",
       "31012    False\n",
       "31013    False\n",
       "Name: Área (ha), Length: 31014, dtype: bool"
      ]
     },
     "execution_count": 25,
     "metadata": {},
     "output_type": "execute_result"
    }
   ],
   "source": [
    "df['Área (ha)']>200000"
   ]
  },
  {
   "cell_type": "code",
   "execution_count": 26,
   "metadata": {
    "id": "V6q06VGtTbMD"
   },
   "outputs": [
    {
     "data": {
      "text/html": [
       "<div>\n",
       "<style scoped>\n",
       "    .dataframe tbody tr th:only-of-type {\n",
       "        vertical-align: middle;\n",
       "    }\n",
       "\n",
       "    .dataframe tbody tr th {\n",
       "        vertical-align: top;\n",
       "    }\n",
       "\n",
       "    .dataframe thead th {\n",
       "        text-align: right;\n",
       "    }\n",
       "</style>\n",
       "<table border=\"1\" class=\"dataframe\">\n",
       "  <thead>\n",
       "    <tr style=\"text-align: right;\">\n",
       "      <th></th>\n",
       "      <th>Ano (data)</th>\n",
       "      <th>País</th>\n",
       "      <th>Região</th>\n",
       "      <th>Estado</th>\n",
       "      <th>Estado sigla</th>\n",
       "      <th>Município (Municípios)</th>\n",
       "      <th>Município Estado</th>\n",
       "      <th>Latitude</th>\n",
       "      <th>Longitude</th>\n",
       "      <th>Espécie florestal</th>\n",
       "      <th>Área (ha)</th>\n",
       "    </tr>\n",
       "  </thead>\n",
       "  <tbody>\n",
       "    <tr>\n",
       "      <th>28460</th>\n",
       "      <td>31/12/2016</td>\n",
       "      <td>Brasil</td>\n",
       "      <td>Centro Oeste</td>\n",
       "      <td>Mato Grosso do Sul</td>\n",
       "      <td>MS</td>\n",
       "      <td>Ribas do Rio Pardo</td>\n",
       "      <td>Ribas do Rio Pardo (MS)</td>\n",
       "      <td>-20,6</td>\n",
       "      <td>-53,54</td>\n",
       "      <td>Eucalipto</td>\n",
       "      <td>205000.0</td>\n",
       "    </tr>\n",
       "    <tr>\n",
       "      <th>28576</th>\n",
       "      <td>31/12/2015</td>\n",
       "      <td>Brasil</td>\n",
       "      <td>Centro Oeste</td>\n",
       "      <td>Mato Grosso do Sul</td>\n",
       "      <td>MS</td>\n",
       "      <td>Três Lagoas</td>\n",
       "      <td>Três Lagoas (MS)</td>\n",
       "      <td>-20,44</td>\n",
       "      <td>-52,21</td>\n",
       "      <td>Eucalipto</td>\n",
       "      <td>217600.0</td>\n",
       "    </tr>\n",
       "    <tr>\n",
       "      <th>28577</th>\n",
       "      <td>31/12/2016</td>\n",
       "      <td>Brasil</td>\n",
       "      <td>Centro Oeste</td>\n",
       "      <td>Mato Grosso do Sul</td>\n",
       "      <td>MS</td>\n",
       "      <td>Três Lagoas</td>\n",
       "      <td>Três Lagoas (MS)</td>\n",
       "      <td>-20,44</td>\n",
       "      <td>-52,21</td>\n",
       "      <td>Eucalipto</td>\n",
       "      <td>230000.0</td>\n",
       "    </tr>\n",
       "  </tbody>\n",
       "</table>\n",
       "</div>"
      ],
      "text/plain": [
       "       Ano (data)    País        Região              Estado Estado sigla  \\\n",
       "28460  31/12/2016  Brasil  Centro Oeste  Mato Grosso do Sul           MS   \n",
       "28576  31/12/2015  Brasil  Centro Oeste  Mato Grosso do Sul           MS   \n",
       "28577  31/12/2016  Brasil  Centro Oeste  Mato Grosso do Sul           MS   \n",
       "\n",
       "      Município (Municípios)         Município Estado Latitude Longitude  \\\n",
       "28460     Ribas do Rio Pardo  Ribas do Rio Pardo (MS)    -20,6    -53,54   \n",
       "28576            Três Lagoas         Três Lagoas (MS)   -20,44    -52,21   \n",
       "28577            Três Lagoas         Três Lagoas (MS)   -20,44    -52,21   \n",
       "\n",
       "      Espécie florestal  Área (ha)  \n",
       "28460         Eucalipto   205000.0  \n",
       "28576         Eucalipto   217600.0  \n",
       "28577         Eucalipto   230000.0  "
      ]
     },
     "execution_count": 26,
     "metadata": {},
     "output_type": "execute_result"
    }
   ],
   "source": [
    "df[df['Área (ha)']>200000]"
   ]
  },
  {
   "cell_type": "code",
   "execution_count": 27,
   "metadata": {
    "id": "QIOCmiemHaiw"
   },
   "outputs": [
    {
     "data": {
      "text/plain": [
       "Ano (data)                                31/12/2015\n",
       "País                                          Brasil\n",
       "Região                                         Norte\n",
       "Estado                                      Rondônia\n",
       "Estado sigla                                      RO\n",
       "Município (Municípios)         Alta Floresta D'Oeste\n",
       "Município Estado          Alta Floresta D'Oeste (RO)\n",
       "Latitude                                      -12,47\n",
       "Longitude                                     -62,27\n",
       "Espécie florestal                          Eucalipto\n",
       "Área (ha)                                        0.0\n",
       "Name: 1, dtype: object"
      ]
     },
     "execution_count": 27,
     "metadata": {},
     "output_type": "execute_result"
    }
   ],
   "source": [
    "# verificando um indice específico\n",
    "df.loc[1]"
   ]
  },
  {
   "cell_type": "code",
   "execution_count": 29,
   "metadata": {
    "id": "MeSTHObqHf0R"
   },
   "outputs": [
    {
     "data": {
      "text/plain": [
       "Ano (data)                   0\n",
       "País                         0\n",
       "Região                       0\n",
       "Estado                       0\n",
       "Estado sigla                 0\n",
       "Município (Municípios)       0\n",
       "Município Estado             0\n",
       "Latitude                     0\n",
       "Longitude                    0\n",
       "Espécie florestal            0\n",
       "Área (ha)                 1356\n",
       "dtype: int64"
      ]
     },
     "execution_count": 29,
     "metadata": {},
     "output_type": "execute_result"
    }
   ],
   "source": [
    "# verificando colunas nulas\n",
    "df.isnull().sum()"
   ]
  },
  {
   "cell_type": "code",
   "execution_count": 36,
   "metadata": {},
   "outputs": [
    {
     "data": {
      "text/plain": [
       "0        False\n",
       "1        False\n",
       "2        False\n",
       "3        False\n",
       "4        False\n",
       "         ...  \n",
       "31009    False\n",
       "31010    False\n",
       "31011    False\n",
       "31012    False\n",
       "31013    False\n",
       "Name: Área (ha), Length: 31014, dtype: bool"
      ]
     },
     "execution_count": 36,
     "metadata": {},
     "output_type": "execute_result"
    }
   ],
   "source": [
    "df['Área (ha)'].isnull()"
   ]
  },
  {
   "cell_type": "markdown",
   "metadata": {
    "id": "NrDx0muFT-7J"
   },
   "source": [
    "Como filtrar colunas e linhas específicas do DataFrame.\n",
    "\n",
    "| ![Filtrando os Dados](https://pandas.pydata.org/docs/_images/03_subset_columns_rows.svg) |\n",
    "|:--:| \n",
    "| _Filtrando os Dados_ (Fonte da imagem: [Pandas](https://pandas.pydata.org/)) |"
   ]
  },
  {
   "cell_type": "code",
   "execution_count": 37,
   "metadata": {
    "id": "jKrE8QffTbJI"
   },
   "outputs": [
    {
     "data": {
      "text/html": [
       "<div>\n",
       "<style scoped>\n",
       "    .dataframe tbody tr th:only-of-type {\n",
       "        vertical-align: middle;\n",
       "    }\n",
       "\n",
       "    .dataframe tbody tr th {\n",
       "        vertical-align: top;\n",
       "    }\n",
       "\n",
       "    .dataframe thead th {\n",
       "        text-align: right;\n",
       "    }\n",
       "</style>\n",
       "<table border=\"1\" class=\"dataframe\">\n",
       "  <thead>\n",
       "    <tr style=\"text-align: right;\">\n",
       "      <th></th>\n",
       "      <th>Ano (data)</th>\n",
       "      <th>País</th>\n",
       "      <th>Região</th>\n",
       "      <th>Estado</th>\n",
       "      <th>Estado sigla</th>\n",
       "      <th>Município (Municípios)</th>\n",
       "      <th>Município Estado</th>\n",
       "      <th>Latitude</th>\n",
       "      <th>Longitude</th>\n",
       "      <th>Espécie florestal</th>\n",
       "      <th>Área (ha)</th>\n",
       "    </tr>\n",
       "  </thead>\n",
       "  <tbody>\n",
       "    <tr>\n",
       "      <th>28460</th>\n",
       "      <td>31/12/2016</td>\n",
       "      <td>Brasil</td>\n",
       "      <td>Centro Oeste</td>\n",
       "      <td>Mato Grosso do Sul</td>\n",
       "      <td>MS</td>\n",
       "      <td>Ribas do Rio Pardo</td>\n",
       "      <td>Ribas do Rio Pardo (MS)</td>\n",
       "      <td>-20,6</td>\n",
       "      <td>-53,54</td>\n",
       "      <td>Eucalipto</td>\n",
       "      <td>205000.0</td>\n",
       "    </tr>\n",
       "    <tr>\n",
       "      <th>28576</th>\n",
       "      <td>31/12/2015</td>\n",
       "      <td>Brasil</td>\n",
       "      <td>Centro Oeste</td>\n",
       "      <td>Mato Grosso do Sul</td>\n",
       "      <td>MS</td>\n",
       "      <td>Três Lagoas</td>\n",
       "      <td>Três Lagoas (MS)</td>\n",
       "      <td>-20,44</td>\n",
       "      <td>-52,21</td>\n",
       "      <td>Eucalipto</td>\n",
       "      <td>217600.0</td>\n",
       "    </tr>\n",
       "    <tr>\n",
       "      <th>28577</th>\n",
       "      <td>31/12/2016</td>\n",
       "      <td>Brasil</td>\n",
       "      <td>Centro Oeste</td>\n",
       "      <td>Mato Grosso do Sul</td>\n",
       "      <td>MS</td>\n",
       "      <td>Três Lagoas</td>\n",
       "      <td>Três Lagoas (MS)</td>\n",
       "      <td>-20,44</td>\n",
       "      <td>-52,21</td>\n",
       "      <td>Eucalipto</td>\n",
       "      <td>230000.0</td>\n",
       "    </tr>\n",
       "  </tbody>\n",
       "</table>\n",
       "</div>"
      ],
      "text/plain": [
       "       Ano (data)    País        Região              Estado Estado sigla  \\\n",
       "28460  31/12/2016  Brasil  Centro Oeste  Mato Grosso do Sul           MS   \n",
       "28576  31/12/2015  Brasil  Centro Oeste  Mato Grosso do Sul           MS   \n",
       "28577  31/12/2016  Brasil  Centro Oeste  Mato Grosso do Sul           MS   \n",
       "\n",
       "      Município (Municípios)         Município Estado Latitude Longitude  \\\n",
       "28460     Ribas do Rio Pardo  Ribas do Rio Pardo (MS)    -20,6    -53,54   \n",
       "28576            Três Lagoas         Três Lagoas (MS)   -20,44    -52,21   \n",
       "28577            Três Lagoas         Três Lagoas (MS)   -20,44    -52,21   \n",
       "\n",
       "      Espécie florestal  Área (ha)  \n",
       "28460         Eucalipto   205000.0  \n",
       "28576         Eucalipto   217600.0  \n",
       "28577         Eucalipto   230000.0  "
      ]
     },
     "execution_count": 37,
     "metadata": {},
     "output_type": "execute_result"
    }
   ],
   "source": [
    "df.loc[df['Área (ha)']>200000]"
   ]
  },
  {
   "cell_type": "code",
   "execution_count": 39,
   "metadata": {
    "id": "QnhR1c9yTbGD"
   },
   "outputs": [
    {
     "data": {
      "text/plain": [
       "28460    MS\n",
       "28576    MS\n",
       "28577    MS\n",
       "Name: Estado sigla, dtype: object"
      ]
     },
     "execution_count": 39,
     "metadata": {},
     "output_type": "execute_result"
    }
   ],
   "source": [
    "df.loc[df['Área (ha)']>200000, 'Estado sigla']"
   ]
  },
  {
   "cell_type": "code",
   "execution_count": 40,
   "metadata": {},
   "outputs": [
    {
     "data": {
      "text/html": [
       "<div>\n",
       "<style scoped>\n",
       "    .dataframe tbody tr th:only-of-type {\n",
       "        vertical-align: middle;\n",
       "    }\n",
       "\n",
       "    .dataframe tbody tr th {\n",
       "        vertical-align: top;\n",
       "    }\n",
       "\n",
       "    .dataframe thead th {\n",
       "        text-align: right;\n",
       "    }\n",
       "</style>\n",
       "<table border=\"1\" class=\"dataframe\">\n",
       "  <thead>\n",
       "    <tr style=\"text-align: right;\">\n",
       "      <th></th>\n",
       "      <th>País</th>\n",
       "      <th>Região</th>\n",
       "      <th>Estado sigla</th>\n",
       "    </tr>\n",
       "  </thead>\n",
       "  <tbody>\n",
       "    <tr>\n",
       "      <th>28460</th>\n",
       "      <td>Brasil</td>\n",
       "      <td>Centro Oeste</td>\n",
       "      <td>MS</td>\n",
       "    </tr>\n",
       "    <tr>\n",
       "      <th>28576</th>\n",
       "      <td>Brasil</td>\n",
       "      <td>Centro Oeste</td>\n",
       "      <td>MS</td>\n",
       "    </tr>\n",
       "    <tr>\n",
       "      <th>28577</th>\n",
       "      <td>Brasil</td>\n",
       "      <td>Centro Oeste</td>\n",
       "      <td>MS</td>\n",
       "    </tr>\n",
       "  </tbody>\n",
       "</table>\n",
       "</div>"
      ],
      "text/plain": [
       "         País        Região Estado sigla\n",
       "28460  Brasil  Centro Oeste           MS\n",
       "28576  Brasil  Centro Oeste           MS\n",
       "28577  Brasil  Centro Oeste           MS"
      ]
     },
     "execution_count": 40,
     "metadata": {},
     "output_type": "execute_result"
    }
   ],
   "source": [
    "df[df['Área (ha)']>200000][['País', 'Região', 'Estado sigla']]"
   ]
  },
  {
   "cell_type": "markdown",
   "metadata": {
    "id": "qEnH2NDSV53g"
   },
   "source": [
    "Como criar novas colunas no DataFrame.\n",
    "\n",
    "| ![Novas Colunas](https://pandas.pydata.org/docs/_images/05_newcolumn_1.svg) |\n",
    "|:--:| \n",
    "| _Novas Colunas_ (Fonte da imagem: [Pandas](https://pandas.pydata.org/)) |"
   ]
  },
  {
   "cell_type": "code",
   "execution_count": 42,
   "metadata": {},
   "outputs": [],
   "source": [
    "# Criando novas colunas\n",
    "\n",
    "df['Nova coluna'] = df['Área (ha)']*100"
   ]
  },
  {
   "cell_type": "code",
   "execution_count": 43,
   "metadata": {
    "id": "uTcE8Z0MTbDE"
   },
   "outputs": [
    {
     "data": {
      "text/html": [
       "<div>\n",
       "<style scoped>\n",
       "    .dataframe tbody tr th:only-of-type {\n",
       "        vertical-align: middle;\n",
       "    }\n",
       "\n",
       "    .dataframe tbody tr th {\n",
       "        vertical-align: top;\n",
       "    }\n",
       "\n",
       "    .dataframe thead th {\n",
       "        text-align: right;\n",
       "    }\n",
       "</style>\n",
       "<table border=\"1\" class=\"dataframe\">\n",
       "  <thead>\n",
       "    <tr style=\"text-align: right;\">\n",
       "      <th></th>\n",
       "      <th>Ano (data)</th>\n",
       "      <th>País</th>\n",
       "      <th>Região</th>\n",
       "      <th>Estado</th>\n",
       "      <th>Estado sigla</th>\n",
       "      <th>Município (Municípios)</th>\n",
       "      <th>Município Estado</th>\n",
       "      <th>Latitude</th>\n",
       "      <th>Longitude</th>\n",
       "      <th>Espécie florestal</th>\n",
       "      <th>Área (ha)</th>\n",
       "      <th>Nova coluna</th>\n",
       "    </tr>\n",
       "  </thead>\n",
       "  <tbody>\n",
       "    <tr>\n",
       "      <th>0</th>\n",
       "      <td>31/12/2014</td>\n",
       "      <td>Brasil</td>\n",
       "      <td>Norte</td>\n",
       "      <td>Rondônia</td>\n",
       "      <td>RO</td>\n",
       "      <td>Alta Floresta D'Oeste</td>\n",
       "      <td>Alta Floresta D'Oeste (RO)</td>\n",
       "      <td>-12,47</td>\n",
       "      <td>-62,27</td>\n",
       "      <td>Eucalipto</td>\n",
       "      <td>0.0</td>\n",
       "      <td>0.0</td>\n",
       "    </tr>\n",
       "    <tr>\n",
       "      <th>1</th>\n",
       "      <td>31/12/2015</td>\n",
       "      <td>Brasil</td>\n",
       "      <td>Norte</td>\n",
       "      <td>Rondônia</td>\n",
       "      <td>RO</td>\n",
       "      <td>Alta Floresta D'Oeste</td>\n",
       "      <td>Alta Floresta D'Oeste (RO)</td>\n",
       "      <td>-12,47</td>\n",
       "      <td>-62,27</td>\n",
       "      <td>Eucalipto</td>\n",
       "      <td>0.0</td>\n",
       "      <td>0.0</td>\n",
       "    </tr>\n",
       "    <tr>\n",
       "      <th>2</th>\n",
       "      <td>31/12/2016</td>\n",
       "      <td>Brasil</td>\n",
       "      <td>Norte</td>\n",
       "      <td>Rondônia</td>\n",
       "      <td>RO</td>\n",
       "      <td>Alta Floresta D'Oeste</td>\n",
       "      <td>Alta Floresta D'Oeste (RO)</td>\n",
       "      <td>-12,47</td>\n",
       "      <td>-62,27</td>\n",
       "      <td>Eucalipto</td>\n",
       "      <td>0.0</td>\n",
       "      <td>0.0</td>\n",
       "    </tr>\n",
       "    <tr>\n",
       "      <th>3</th>\n",
       "      <td>31/12/2014</td>\n",
       "      <td>Brasil</td>\n",
       "      <td>Norte</td>\n",
       "      <td>Rondônia</td>\n",
       "      <td>RO</td>\n",
       "      <td>Alta Floresta D'Oeste</td>\n",
       "      <td>Alta Floresta D'Oeste (RO)</td>\n",
       "      <td>-12,47</td>\n",
       "      <td>-62,27</td>\n",
       "      <td>Pinus</td>\n",
       "      <td>0.0</td>\n",
       "      <td>0.0</td>\n",
       "    </tr>\n",
       "    <tr>\n",
       "      <th>4</th>\n",
       "      <td>31/12/2015</td>\n",
       "      <td>Brasil</td>\n",
       "      <td>Norte</td>\n",
       "      <td>Rondônia</td>\n",
       "      <td>RO</td>\n",
       "      <td>Alta Floresta D'Oeste</td>\n",
       "      <td>Alta Floresta D'Oeste (RO)</td>\n",
       "      <td>-12,47</td>\n",
       "      <td>-62,27</td>\n",
       "      <td>Pinus</td>\n",
       "      <td>0.0</td>\n",
       "      <td>0.0</td>\n",
       "    </tr>\n",
       "  </tbody>\n",
       "</table>\n",
       "</div>"
      ],
      "text/plain": [
       "   Ano (data)    País Região    Estado Estado sigla Município (Municípios)  \\\n",
       "0  31/12/2014  Brasil  Norte  Rondônia           RO  Alta Floresta D'Oeste   \n",
       "1  31/12/2015  Brasil  Norte  Rondônia           RO  Alta Floresta D'Oeste   \n",
       "2  31/12/2016  Brasil  Norte  Rondônia           RO  Alta Floresta D'Oeste   \n",
       "3  31/12/2014  Brasil  Norte  Rondônia           RO  Alta Floresta D'Oeste   \n",
       "4  31/12/2015  Brasil  Norte  Rondônia           RO  Alta Floresta D'Oeste   \n",
       "\n",
       "             Município Estado Latitude Longitude Espécie florestal  Área (ha)  \\\n",
       "0  Alta Floresta D'Oeste (RO)   -12,47    -62,27         Eucalipto        0.0   \n",
       "1  Alta Floresta D'Oeste (RO)   -12,47    -62,27         Eucalipto        0.0   \n",
       "2  Alta Floresta D'Oeste (RO)   -12,47    -62,27         Eucalipto        0.0   \n",
       "3  Alta Floresta D'Oeste (RO)   -12,47    -62,27             Pinus        0.0   \n",
       "4  Alta Floresta D'Oeste (RO)   -12,47    -62,27             Pinus        0.0   \n",
       "\n",
       "   Nova coluna  \n",
       "0          0.0  \n",
       "1          0.0  \n",
       "2          0.0  \n",
       "3          0.0  \n",
       "4          0.0  "
      ]
     },
     "execution_count": 43,
     "metadata": {},
     "output_type": "execute_result"
    }
   ],
   "source": [
    "df.head()"
   ]
  },
  {
   "cell_type": "code",
   "execution_count": 44,
   "metadata": {
    "id": "2PEpEyx1KXzJ"
   },
   "outputs": [
    {
     "data": {
      "text/html": [
       "<div>\n",
       "<style scoped>\n",
       "    .dataframe tbody tr th:only-of-type {\n",
       "        vertical-align: middle;\n",
       "    }\n",
       "\n",
       "    .dataframe tbody tr th {\n",
       "        vertical-align: top;\n",
       "    }\n",
       "\n",
       "    .dataframe thead th {\n",
       "        text-align: right;\n",
       "    }\n",
       "</style>\n",
       "<table border=\"1\" class=\"dataframe\">\n",
       "  <thead>\n",
       "    <tr style=\"text-align: right;\">\n",
       "      <th></th>\n",
       "      <th>País</th>\n",
       "      <th>Região</th>\n",
       "      <th>Estado sigla</th>\n",
       "      <th>Nova coluna</th>\n",
       "    </tr>\n",
       "  </thead>\n",
       "  <tbody>\n",
       "    <tr>\n",
       "      <th>28460</th>\n",
       "      <td>Brasil</td>\n",
       "      <td>Centro Oeste</td>\n",
       "      <td>MS</td>\n",
       "      <td>20500000.0</td>\n",
       "    </tr>\n",
       "    <tr>\n",
       "      <th>28576</th>\n",
       "      <td>Brasil</td>\n",
       "      <td>Centro Oeste</td>\n",
       "      <td>MS</td>\n",
       "      <td>21760000.0</td>\n",
       "    </tr>\n",
       "    <tr>\n",
       "      <th>28577</th>\n",
       "      <td>Brasil</td>\n",
       "      <td>Centro Oeste</td>\n",
       "      <td>MS</td>\n",
       "      <td>23000000.0</td>\n",
       "    </tr>\n",
       "  </tbody>\n",
       "</table>\n",
       "</div>"
      ],
      "text/plain": [
       "         País        Região Estado sigla  Nova coluna\n",
       "28460  Brasil  Centro Oeste           MS   20500000.0\n",
       "28576  Brasil  Centro Oeste           MS   21760000.0\n",
       "28577  Brasil  Centro Oeste           MS   23000000.0"
      ]
     },
     "execution_count": 44,
     "metadata": {},
     "output_type": "execute_result"
    }
   ],
   "source": [
    "df[df['Área (ha)']>200000][['País', 'Região', 'Estado sigla', 'Nova coluna']]"
   ]
  },
  {
   "cell_type": "code",
   "execution_count": 46,
   "metadata": {},
   "outputs": [],
   "source": [
    "# Verificando coluna\n",
    "\n",
    "df['Nível'] = ['Alto' if x>200000 else 'Baixo' for x in df['Área (ha)']]"
   ]
  },
  {
   "cell_type": "code",
   "execution_count": 47,
   "metadata": {
    "scrolled": true
   },
   "outputs": [
    {
     "data": {
      "text/html": [
       "<div>\n",
       "<style scoped>\n",
       "    .dataframe tbody tr th:only-of-type {\n",
       "        vertical-align: middle;\n",
       "    }\n",
       "\n",
       "    .dataframe tbody tr th {\n",
       "        vertical-align: top;\n",
       "    }\n",
       "\n",
       "    .dataframe thead th {\n",
       "        text-align: right;\n",
       "    }\n",
       "</style>\n",
       "<table border=\"1\" class=\"dataframe\">\n",
       "  <thead>\n",
       "    <tr style=\"text-align: right;\">\n",
       "      <th></th>\n",
       "      <th>Ano (data)</th>\n",
       "      <th>País</th>\n",
       "      <th>Região</th>\n",
       "      <th>Estado</th>\n",
       "      <th>Estado sigla</th>\n",
       "      <th>Município (Municípios)</th>\n",
       "      <th>Município Estado</th>\n",
       "      <th>Latitude</th>\n",
       "      <th>Longitude</th>\n",
       "      <th>Espécie florestal</th>\n",
       "      <th>Área (ha)</th>\n",
       "      <th>Nova coluna</th>\n",
       "      <th>Nível</th>\n",
       "    </tr>\n",
       "  </thead>\n",
       "  <tbody>\n",
       "    <tr>\n",
       "      <th>0</th>\n",
       "      <td>31/12/2014</td>\n",
       "      <td>Brasil</td>\n",
       "      <td>Norte</td>\n",
       "      <td>Rondônia</td>\n",
       "      <td>RO</td>\n",
       "      <td>Alta Floresta D'Oeste</td>\n",
       "      <td>Alta Floresta D'Oeste (RO)</td>\n",
       "      <td>-12,47</td>\n",
       "      <td>-62,27</td>\n",
       "      <td>Eucalipto</td>\n",
       "      <td>0.0</td>\n",
       "      <td>0.0</td>\n",
       "      <td>Baixo</td>\n",
       "    </tr>\n",
       "    <tr>\n",
       "      <th>1</th>\n",
       "      <td>31/12/2015</td>\n",
       "      <td>Brasil</td>\n",
       "      <td>Norte</td>\n",
       "      <td>Rondônia</td>\n",
       "      <td>RO</td>\n",
       "      <td>Alta Floresta D'Oeste</td>\n",
       "      <td>Alta Floresta D'Oeste (RO)</td>\n",
       "      <td>-12,47</td>\n",
       "      <td>-62,27</td>\n",
       "      <td>Eucalipto</td>\n",
       "      <td>0.0</td>\n",
       "      <td>0.0</td>\n",
       "      <td>Baixo</td>\n",
       "    </tr>\n",
       "    <tr>\n",
       "      <th>2</th>\n",
       "      <td>31/12/2016</td>\n",
       "      <td>Brasil</td>\n",
       "      <td>Norte</td>\n",
       "      <td>Rondônia</td>\n",
       "      <td>RO</td>\n",
       "      <td>Alta Floresta D'Oeste</td>\n",
       "      <td>Alta Floresta D'Oeste (RO)</td>\n",
       "      <td>-12,47</td>\n",
       "      <td>-62,27</td>\n",
       "      <td>Eucalipto</td>\n",
       "      <td>0.0</td>\n",
       "      <td>0.0</td>\n",
       "      <td>Baixo</td>\n",
       "    </tr>\n",
       "    <tr>\n",
       "      <th>3</th>\n",
       "      <td>31/12/2014</td>\n",
       "      <td>Brasil</td>\n",
       "      <td>Norte</td>\n",
       "      <td>Rondônia</td>\n",
       "      <td>RO</td>\n",
       "      <td>Alta Floresta D'Oeste</td>\n",
       "      <td>Alta Floresta D'Oeste (RO)</td>\n",
       "      <td>-12,47</td>\n",
       "      <td>-62,27</td>\n",
       "      <td>Pinus</td>\n",
       "      <td>0.0</td>\n",
       "      <td>0.0</td>\n",
       "      <td>Baixo</td>\n",
       "    </tr>\n",
       "    <tr>\n",
       "      <th>4</th>\n",
       "      <td>31/12/2015</td>\n",
       "      <td>Brasil</td>\n",
       "      <td>Norte</td>\n",
       "      <td>Rondônia</td>\n",
       "      <td>RO</td>\n",
       "      <td>Alta Floresta D'Oeste</td>\n",
       "      <td>Alta Floresta D'Oeste (RO)</td>\n",
       "      <td>-12,47</td>\n",
       "      <td>-62,27</td>\n",
       "      <td>Pinus</td>\n",
       "      <td>0.0</td>\n",
       "      <td>0.0</td>\n",
       "      <td>Baixo</td>\n",
       "    </tr>\n",
       "  </tbody>\n",
       "</table>\n",
       "</div>"
      ],
      "text/plain": [
       "   Ano (data)    País Região    Estado Estado sigla Município (Municípios)  \\\n",
       "0  31/12/2014  Brasil  Norte  Rondônia           RO  Alta Floresta D'Oeste   \n",
       "1  31/12/2015  Brasil  Norte  Rondônia           RO  Alta Floresta D'Oeste   \n",
       "2  31/12/2016  Brasil  Norte  Rondônia           RO  Alta Floresta D'Oeste   \n",
       "3  31/12/2014  Brasil  Norte  Rondônia           RO  Alta Floresta D'Oeste   \n",
       "4  31/12/2015  Brasil  Norte  Rondônia           RO  Alta Floresta D'Oeste   \n",
       "\n",
       "             Município Estado Latitude Longitude Espécie florestal  Área (ha)  \\\n",
       "0  Alta Floresta D'Oeste (RO)   -12,47    -62,27         Eucalipto        0.0   \n",
       "1  Alta Floresta D'Oeste (RO)   -12,47    -62,27         Eucalipto        0.0   \n",
       "2  Alta Floresta D'Oeste (RO)   -12,47    -62,27         Eucalipto        0.0   \n",
       "3  Alta Floresta D'Oeste (RO)   -12,47    -62,27             Pinus        0.0   \n",
       "4  Alta Floresta D'Oeste (RO)   -12,47    -62,27             Pinus        0.0   \n",
       "\n",
       "   Nova coluna  Nível  \n",
       "0          0.0  Baixo  \n",
       "1          0.0  Baixo  \n",
       "2          0.0  Baixo  \n",
       "3          0.0  Baixo  \n",
       "4          0.0  Baixo  "
      ]
     },
     "execution_count": 47,
     "metadata": {},
     "output_type": "execute_result"
    }
   ],
   "source": [
    "df.head()"
   ]
  },
  {
   "cell_type": "code",
   "execution_count": 49,
   "metadata": {
    "id": "tsxm_HYeTa8k"
   },
   "outputs": [
    {
     "data": {
      "text/html": [
       "<div>\n",
       "<style scoped>\n",
       "    .dataframe tbody tr th:only-of-type {\n",
       "        vertical-align: middle;\n",
       "    }\n",
       "\n",
       "    .dataframe tbody tr th {\n",
       "        vertical-align: top;\n",
       "    }\n",
       "\n",
       "    .dataframe thead th {\n",
       "        text-align: right;\n",
       "    }\n",
       "</style>\n",
       "<table border=\"1\" class=\"dataframe\">\n",
       "  <thead>\n",
       "    <tr style=\"text-align: right;\">\n",
       "      <th></th>\n",
       "      <th>Área (ha)</th>\n",
       "      <th>Nova coluna</th>\n",
       "    </tr>\n",
       "  </thead>\n",
       "  <tbody>\n",
       "    <tr>\n",
       "      <th>count</th>\n",
       "      <td>29658.000000</td>\n",
       "      <td>2.965800e+04</td>\n",
       "    </tr>\n",
       "    <tr>\n",
       "      <th>mean</th>\n",
       "      <td>988.865197</td>\n",
       "      <td>9.888652e+04</td>\n",
       "    </tr>\n",
       "    <tr>\n",
       "      <th>std</th>\n",
       "      <td>5477.579430</td>\n",
       "      <td>5.477579e+05</td>\n",
       "    </tr>\n",
       "    <tr>\n",
       "      <th>min</th>\n",
       "      <td>0.000000</td>\n",
       "      <td>0.000000e+00</td>\n",
       "    </tr>\n",
       "    <tr>\n",
       "      <th>25%</th>\n",
       "      <td>0.000000</td>\n",
       "      <td>0.000000e+00</td>\n",
       "    </tr>\n",
       "    <tr>\n",
       "      <th>50%</th>\n",
       "      <td>0.000000</td>\n",
       "      <td>0.000000e+00</td>\n",
       "    </tr>\n",
       "    <tr>\n",
       "      <th>75%</th>\n",
       "      <td>242.000000</td>\n",
       "      <td>2.420000e+04</td>\n",
       "    </tr>\n",
       "    <tr>\n",
       "      <th>max</th>\n",
       "      <td>230000.000000</td>\n",
       "      <td>2.300000e+07</td>\n",
       "    </tr>\n",
       "  </tbody>\n",
       "</table>\n",
       "</div>"
      ],
      "text/plain": [
       "           Área (ha)   Nova coluna\n",
       "count   29658.000000  2.965800e+04\n",
       "mean      988.865197  9.888652e+04\n",
       "std      5477.579430  5.477579e+05\n",
       "min         0.000000  0.000000e+00\n",
       "25%         0.000000  0.000000e+00\n",
       "50%         0.000000  0.000000e+00\n",
       "75%       242.000000  2.420000e+04\n",
       "max    230000.000000  2.300000e+07"
      ]
     },
     "execution_count": 49,
     "metadata": {},
     "output_type": "execute_result"
    }
   ],
   "source": [
    "# principais medidas estatisticas para as variáveis numéricas\n",
    "df.describe()"
   ]
  },
  {
   "cell_type": "code",
   "execution_count": null,
   "metadata": {
    "id": "8VskYg39Ta5E"
   },
   "outputs": [],
   "source": [
    "# calculando as medidas de agregação"
   ]
  },
  {
   "cell_type": "code",
   "execution_count": 55,
   "metadata": {
    "id": "gPEZzSSkXy7f"
   },
   "outputs": [
    {
     "data": {
      "text/plain": [
       "988.87"
      ]
     },
     "execution_count": 55,
     "metadata": {},
     "output_type": "execute_result"
    }
   ],
   "source": [
    "# media\n",
    "round(df['Área (ha)'].mean(), 2) #média arredondada"
   ]
  },
  {
   "cell_type": "code",
   "execution_count": 56,
   "metadata": {
    "id": "FCRR8oqNX5do"
   },
   "outputs": [
    {
     "data": {
      "text/plain": [
       "0.0"
      ]
     },
     "execution_count": 56,
     "metadata": {},
     "output_type": "execute_result"
    }
   ],
   "source": [
    "# mediana\n",
    "df['Área (ha)'].median()"
   ]
  },
  {
   "cell_type": "code",
   "execution_count": 57,
   "metadata": {
    "id": "f2cVZjjuX5aB"
   },
   "outputs": [
    {
     "data": {
      "text/plain": [
       "29327764.0"
      ]
     },
     "execution_count": 57,
     "metadata": {},
     "output_type": "execute_result"
    }
   ],
   "source": [
    "# soma\n",
    "df['Área (ha)'].sum()"
   ]
  },
  {
   "cell_type": "markdown",
   "metadata": {
    "id": "v3ByjISIYKPZ"
   },
   "source": [
    "Como criar medidas agregadas agrupando por categoria no DataFrame.\n",
    "\n",
    "| ![Group by](https://pandas.pydata.org/docs/_images/06_groupby.svg) |\n",
    "|:--:| \n",
    "| _Group by_ (Fonte da imagem: [Pandas](https://pandas.pydata.org/)) |"
   ]
  },
  {
   "cell_type": "code",
   "execution_count": 58,
   "metadata": {
    "id": "_MIAooU0X5WF"
   },
   "outputs": [
    {
     "data": {
      "text/html": [
       "<div>\n",
       "<style scoped>\n",
       "    .dataframe tbody tr th:only-of-type {\n",
       "        vertical-align: middle;\n",
       "    }\n",
       "\n",
       "    .dataframe tbody tr th {\n",
       "        vertical-align: top;\n",
       "    }\n",
       "\n",
       "    .dataframe thead th {\n",
       "        text-align: right;\n",
       "    }\n",
       "</style>\n",
       "<table border=\"1\" class=\"dataframe\">\n",
       "  <thead>\n",
       "    <tr style=\"text-align: right;\">\n",
       "      <th></th>\n",
       "      <th>Estado sigla</th>\n",
       "      <th>Área (ha)</th>\n",
       "    </tr>\n",
       "  </thead>\n",
       "  <tbody>\n",
       "    <tr>\n",
       "      <th>0</th>\n",
       "      <td>RO</td>\n",
       "      <td>0.0</td>\n",
       "    </tr>\n",
       "    <tr>\n",
       "      <th>1</th>\n",
       "      <td>RO</td>\n",
       "      <td>0.0</td>\n",
       "    </tr>\n",
       "    <tr>\n",
       "      <th>2</th>\n",
       "      <td>RO</td>\n",
       "      <td>0.0</td>\n",
       "    </tr>\n",
       "    <tr>\n",
       "      <th>3</th>\n",
       "      <td>RO</td>\n",
       "      <td>0.0</td>\n",
       "    </tr>\n",
       "    <tr>\n",
       "      <th>4</th>\n",
       "      <td>RO</td>\n",
       "      <td>0.0</td>\n",
       "    </tr>\n",
       "    <tr>\n",
       "      <th>...</th>\n",
       "      <td>...</td>\n",
       "      <td>...</td>\n",
       "    </tr>\n",
       "    <tr>\n",
       "      <th>31009</th>\n",
       "      <td>DF</td>\n",
       "      <td>1000.0</td>\n",
       "    </tr>\n",
       "    <tr>\n",
       "      <th>31010</th>\n",
       "      <td>DF</td>\n",
       "      <td>700.0</td>\n",
       "    </tr>\n",
       "    <tr>\n",
       "      <th>31011</th>\n",
       "      <td>DF</td>\n",
       "      <td>0.0</td>\n",
       "    </tr>\n",
       "    <tr>\n",
       "      <th>31012</th>\n",
       "      <td>DF</td>\n",
       "      <td>0.0</td>\n",
       "    </tr>\n",
       "    <tr>\n",
       "      <th>31013</th>\n",
       "      <td>DF</td>\n",
       "      <td>0.0</td>\n",
       "    </tr>\n",
       "  </tbody>\n",
       "</table>\n",
       "<p>31014 rows × 2 columns</p>\n",
       "</div>"
      ],
      "text/plain": [
       "      Estado sigla  Área (ha)\n",
       "0               RO        0.0\n",
       "1               RO        0.0\n",
       "2               RO        0.0\n",
       "3               RO        0.0\n",
       "4               RO        0.0\n",
       "...            ...        ...\n",
       "31009           DF     1000.0\n",
       "31010           DF      700.0\n",
       "31011           DF        0.0\n",
       "31012           DF        0.0\n",
       "31013           DF        0.0\n",
       "\n",
       "[31014 rows x 2 columns]"
      ]
     },
     "execution_count": 58,
     "metadata": {},
     "output_type": "execute_result"
    }
   ],
   "source": [
    "# media por estado\n",
    "df[['Estado sigla', 'Área (ha)']]"
   ]
  },
  {
   "cell_type": "code",
   "execution_count": 60,
   "metadata": {},
   "outputs": [
    {
     "data": {
      "text/html": [
       "<div>\n",
       "<style scoped>\n",
       "    .dataframe tbody tr th:only-of-type {\n",
       "        vertical-align: middle;\n",
       "    }\n",
       "\n",
       "    .dataframe tbody tr th {\n",
       "        vertical-align: top;\n",
       "    }\n",
       "\n",
       "    .dataframe thead th {\n",
       "        text-align: right;\n",
       "    }\n",
       "</style>\n",
       "<table border=\"1\" class=\"dataframe\">\n",
       "  <thead>\n",
       "    <tr style=\"text-align: right;\">\n",
       "      <th></th>\n",
       "      <th>Área (ha)</th>\n",
       "    </tr>\n",
       "    <tr>\n",
       "      <th>Estado sigla</th>\n",
       "      <th></th>\n",
       "    </tr>\n",
       "  </thead>\n",
       "  <tbody>\n",
       "    <tr>\n",
       "      <th>AL</th>\n",
       "      <td>90.702899</td>\n",
       "    </tr>\n",
       "    <tr>\n",
       "      <th>AP</th>\n",
       "      <td>10622.244444</td>\n",
       "    </tr>\n",
       "    <tr>\n",
       "      <th>BA</th>\n",
       "      <td>2406.675000</td>\n",
       "    </tr>\n",
       "    <tr>\n",
       "      <th>CE</th>\n",
       "      <td>7.956522</td>\n",
       "    </tr>\n",
       "    <tr>\n",
       "      <th>DF</th>\n",
       "      <td>1224.222222</td>\n",
       "    </tr>\n",
       "    <tr>\n",
       "      <th>ES</th>\n",
       "      <td>1166.813390</td>\n",
       "    </tr>\n",
       "    <tr>\n",
       "      <th>GO</th>\n",
       "      <td>312.309201</td>\n",
       "    </tr>\n",
       "    <tr>\n",
       "      <th>MA</th>\n",
       "      <td>1581.435185</td>\n",
       "    </tr>\n",
       "    <tr>\n",
       "      <th>MG</th>\n",
       "      <td>792.108674</td>\n",
       "    </tr>\n",
       "    <tr>\n",
       "      <th>MS</th>\n",
       "      <td>4191.767857</td>\n",
       "    </tr>\n",
       "    <tr>\n",
       "      <th>MT</th>\n",
       "      <td>882.268987</td>\n",
       "    </tr>\n",
       "    <tr>\n",
       "      <th>PA</th>\n",
       "      <td>3166.395833</td>\n",
       "    </tr>\n",
       "    <tr>\n",
       "      <th>PB</th>\n",
       "      <td>311.280702</td>\n",
       "    </tr>\n",
       "    <tr>\n",
       "      <th>PE</th>\n",
       "      <td>130.777778</td>\n",
       "    </tr>\n",
       "    <tr>\n",
       "      <th>PI</th>\n",
       "      <td>521.699531</td>\n",
       "    </tr>\n",
       "    <tr>\n",
       "      <th>PR</th>\n",
       "      <td>1397.621745</td>\n",
       "    </tr>\n",
       "    <tr>\n",
       "      <th>RJ</th>\n",
       "      <td>166.957227</td>\n",
       "    </tr>\n",
       "    <tr>\n",
       "      <th>RN</th>\n",
       "      <td>5.329502</td>\n",
       "    </tr>\n",
       "    <tr>\n",
       "      <th>RO</th>\n",
       "      <td>216.337165</td>\n",
       "    </tr>\n",
       "    <tr>\n",
       "      <th>RR</th>\n",
       "      <td>2038.176471</td>\n",
       "    </tr>\n",
       "    <tr>\n",
       "      <th>RS</th>\n",
       "      <td>760.131609</td>\n",
       "    </tr>\n",
       "    <tr>\n",
       "      <th>SC</th>\n",
       "      <td>1165.070498</td>\n",
       "    </tr>\n",
       "    <tr>\n",
       "      <th>SE</th>\n",
       "      <td>56.982759</td>\n",
       "    </tr>\n",
       "    <tr>\n",
       "      <th>SP</th>\n",
       "      <td>739.054348</td>\n",
       "    </tr>\n",
       "    <tr>\n",
       "      <th>TO</th>\n",
       "      <td>649.104455</td>\n",
       "    </tr>\n",
       "  </tbody>\n",
       "</table>\n",
       "</div>"
      ],
      "text/plain": [
       "                 Área (ha)\n",
       "Estado sigla              \n",
       "AL               90.702899\n",
       "AP            10622.244444\n",
       "BA             2406.675000\n",
       "CE                7.956522\n",
       "DF             1224.222222\n",
       "ES             1166.813390\n",
       "GO              312.309201\n",
       "MA             1581.435185\n",
       "MG              792.108674\n",
       "MS             4191.767857\n",
       "MT              882.268987\n",
       "PA             3166.395833\n",
       "PB              311.280702\n",
       "PE              130.777778\n",
       "PI              521.699531\n",
       "PR             1397.621745\n",
       "RJ              166.957227\n",
       "RN                5.329502\n",
       "RO              216.337165\n",
       "RR             2038.176471\n",
       "RS              760.131609\n",
       "SC             1165.070498\n",
       "SE               56.982759\n",
       "SP              739.054348\n",
       "TO              649.104455"
      ]
     },
     "execution_count": 60,
     "metadata": {},
     "output_type": "execute_result"
    }
   ],
   "source": [
    "df[['Estado sigla', 'Área (ha)']].groupby('Estado sigla').mean()"
   ]
  },
  {
   "cell_type": "code",
   "execution_count": 62,
   "metadata": {
    "id": "4hYx0lAyX5PF"
   },
   "outputs": [
    {
     "data": {
      "text/html": [
       "<div>\n",
       "<style scoped>\n",
       "    .dataframe tbody tr th:only-of-type {\n",
       "        vertical-align: middle;\n",
       "    }\n",
       "\n",
       "    .dataframe tbody tr th {\n",
       "        vertical-align: top;\n",
       "    }\n",
       "\n",
       "    .dataframe thead th {\n",
       "        text-align: right;\n",
       "    }\n",
       "</style>\n",
       "<table border=\"1\" class=\"dataframe\">\n",
       "  <thead>\n",
       "    <tr style=\"text-align: right;\">\n",
       "      <th></th>\n",
       "      <th>Área (ha)</th>\n",
       "    </tr>\n",
       "    <tr>\n",
       "      <th>Espécie florestal</th>\n",
       "      <th></th>\n",
       "    </tr>\n",
       "  </thead>\n",
       "  <tbody>\n",
       "    <tr>\n",
       "      <th>Eucalipto</th>\n",
       "      <td>21940841.0</td>\n",
       "    </tr>\n",
       "    <tr>\n",
       "      <th>Outras espécies</th>\n",
       "      <td>1192967.0</td>\n",
       "    </tr>\n",
       "    <tr>\n",
       "      <th>Pinus</th>\n",
       "      <td>6193956.0</td>\n",
       "    </tr>\n",
       "  </tbody>\n",
       "</table>\n",
       "</div>"
      ],
      "text/plain": [
       "                    Área (ha)\n",
       "Espécie florestal            \n",
       "Eucalipto          21940841.0\n",
       "Outras espécies     1192967.0\n",
       "Pinus               6193956.0"
      ]
     },
     "execution_count": 62,
     "metadata": {},
     "output_type": "execute_result"
    }
   ],
   "source": [
    "# soma por especie\n",
    "df[['Espécie florestal', 'Área (ha)']].groupby('Espécie florestal').sum()"
   ]
  },
  {
   "cell_type": "code",
   "execution_count": 64,
   "metadata": {
    "id": "ZeEq5TsoZFg4"
   },
   "outputs": [
    {
     "data": {
      "text/plain": [
       "Região\n",
       "Centro Oeste     3105\n",
       "Nordeste         2727\n",
       "Norte            1413\n",
       "Sudeste         13203\n",
       "Sul             10566\n",
       "Name: Região, dtype: int64"
      ]
     },
     "execution_count": 64,
     "metadata": {},
     "output_type": "execute_result"
    }
   ],
   "source": [
    "# contando os registros por categoria\n",
    "df.groupby('Região')['Região'].count() #exibe apenas coluna região"
   ]
  },
  {
   "cell_type": "code",
   "execution_count": 68,
   "metadata": {
    "id": "QXWVZ-WGQXzI"
   },
   "outputs": [
    {
     "data": {
      "text/plain": [
       "Sudeste         13203\n",
       "Sul             10566\n",
       "Centro Oeste     3105\n",
       "Nordeste         2727\n",
       "Norte            1413\n",
       "Name: Região, dtype: int64"
      ]
     },
     "execution_count": 68,
     "metadata": {},
     "output_type": "execute_result"
    }
   ],
   "source": [
    "df['Região'].value_counts() # Faz o mesmo que a célula anterior mas de forma simples"
   ]
  },
  {
   "cell_type": "code",
   "execution_count": 72,
   "metadata": {
    "id": "JzTfcEKZQtC9"
   },
   "outputs": [
    {
     "name": "stdout",
     "output_type": "stream",
     "text": [
      "Ano (data)\n",
      "País\n",
      "Região\n",
      "Estado\n",
      "Estado sigla\n",
      "Município (Municípios)\n",
      "Município Estado\n",
      "Latitude\n",
      "Longitude\n",
      "Espécie florestal\n",
      "Área (ha)\n",
      "Nova coluna\n",
      "Nível\n"
     ]
    }
   ],
   "source": [
    "for col in df.columns:\n",
    "    print(col)"
   ]
  },
  {
   "cell_type": "code",
   "execution_count": 73,
   "metadata": {
    "id": "v97CaJHVQ0Ie"
   },
   "outputs": [
    {
     "name": "stdout",
     "output_type": "stream",
     "text": [
      "Ano (data)\n",
      "País\n",
      "Região\n",
      "Estado\n",
      "Estado sigla\n",
      "Município (Municípios)\n",
      "Município Estado\n",
      "Latitude\n",
      "Longitude\n",
      "Espécie florestal\n",
      "Área (ha)\n",
      "Nova coluna\n",
      "Nível\n"
     ]
    },
    {
     "data": {
      "text/plain": [
       "Baixo    31011\n",
       "Alto         3\n",
       "Name: Nível, dtype: int64"
      ]
     },
     "execution_count": 73,
     "metadata": {},
     "output_type": "execute_result"
    }
   ],
   "source": [
    "for col in df.columns:\n",
    "    print(col)\n",
    "df[col].value_counts()"
   ]
  },
  {
   "cell_type": "code",
   "execution_count": 78,
   "metadata": {
    "id": "MIrP7gMqZLd7"
   },
   "outputs": [
    {
     "data": {
      "text/html": [
       "<div>\n",
       "<style scoped>\n",
       "    .dataframe tbody tr th:only-of-type {\n",
       "        vertical-align: middle;\n",
       "    }\n",
       "\n",
       "    .dataframe tbody tr th {\n",
       "        vertical-align: top;\n",
       "    }\n",
       "\n",
       "    .dataframe thead th {\n",
       "        text-align: right;\n",
       "    }\n",
       "</style>\n",
       "<table border=\"1\" class=\"dataframe\">\n",
       "  <thead>\n",
       "    <tr style=\"text-align: right;\">\n",
       "      <th></th>\n",
       "      <th>Ano (data)</th>\n",
       "      <th>País</th>\n",
       "      <th>Região</th>\n",
       "      <th>Estado</th>\n",
       "      <th>Estado sigla</th>\n",
       "      <th>Município (Municípios)</th>\n",
       "      <th>Município Estado</th>\n",
       "      <th>Latitude</th>\n",
       "      <th>Longitude</th>\n",
       "      <th>Espécie florestal</th>\n",
       "      <th>Área (ha)</th>\n",
       "      <th>Nova coluna</th>\n",
       "      <th>Nível</th>\n",
       "    </tr>\n",
       "  </thead>\n",
       "  <tbody>\n",
       "    <tr>\n",
       "      <th>8307</th>\n",
       "      <td>31/12/2014</td>\n",
       "      <td>Brasil</td>\n",
       "      <td>Sudeste</td>\n",
       "      <td>Minas Gerais</td>\n",
       "      <td>MG</td>\n",
       "      <td>Montes Claros</td>\n",
       "      <td>Montes Claros (MG)</td>\n",
       "      <td>-16,62</td>\n",
       "      <td>-43,93</td>\n",
       "      <td>Eucalipto</td>\n",
       "      <td>7900.0</td>\n",
       "      <td>790000.0</td>\n",
       "      <td>Baixo</td>\n",
       "    </tr>\n",
       "    <tr>\n",
       "      <th>8308</th>\n",
       "      <td>31/12/2015</td>\n",
       "      <td>Brasil</td>\n",
       "      <td>Sudeste</td>\n",
       "      <td>Minas Gerais</td>\n",
       "      <td>MG</td>\n",
       "      <td>Montes Claros</td>\n",
       "      <td>Montes Claros (MG)</td>\n",
       "      <td>-16,62</td>\n",
       "      <td>-43,93</td>\n",
       "      <td>Eucalipto</td>\n",
       "      <td>9585.0</td>\n",
       "      <td>958500.0</td>\n",
       "      <td>Baixo</td>\n",
       "    </tr>\n",
       "    <tr>\n",
       "      <th>8309</th>\n",
       "      <td>31/12/2016</td>\n",
       "      <td>Brasil</td>\n",
       "      <td>Sudeste</td>\n",
       "      <td>Minas Gerais</td>\n",
       "      <td>MG</td>\n",
       "      <td>Montes Claros</td>\n",
       "      <td>Montes Claros (MG)</td>\n",
       "      <td>-16,62</td>\n",
       "      <td>-43,93</td>\n",
       "      <td>Eucalipto</td>\n",
       "      <td>9250.0</td>\n",
       "      <td>925000.0</td>\n",
       "      <td>Baixo</td>\n",
       "    </tr>\n",
       "    <tr>\n",
       "      <th>8310</th>\n",
       "      <td>31/12/2014</td>\n",
       "      <td>Brasil</td>\n",
       "      <td>Sudeste</td>\n",
       "      <td>Minas Gerais</td>\n",
       "      <td>MG</td>\n",
       "      <td>Montes Claros</td>\n",
       "      <td>Montes Claros (MG)</td>\n",
       "      <td>-16,62</td>\n",
       "      <td>-43,93</td>\n",
       "      <td>Pinus</td>\n",
       "      <td>0.0</td>\n",
       "      <td>0.0</td>\n",
       "      <td>Baixo</td>\n",
       "    </tr>\n",
       "    <tr>\n",
       "      <th>8311</th>\n",
       "      <td>31/12/2015</td>\n",
       "      <td>Brasil</td>\n",
       "      <td>Sudeste</td>\n",
       "      <td>Minas Gerais</td>\n",
       "      <td>MG</td>\n",
       "      <td>Montes Claros</td>\n",
       "      <td>Montes Claros (MG)</td>\n",
       "      <td>-16,62</td>\n",
       "      <td>-43,93</td>\n",
       "      <td>Pinus</td>\n",
       "      <td>0.0</td>\n",
       "      <td>0.0</td>\n",
       "      <td>Baixo</td>\n",
       "    </tr>\n",
       "    <tr>\n",
       "      <th>8312</th>\n",
       "      <td>31/12/2016</td>\n",
       "      <td>Brasil</td>\n",
       "      <td>Sudeste</td>\n",
       "      <td>Minas Gerais</td>\n",
       "      <td>MG</td>\n",
       "      <td>Montes Claros</td>\n",
       "      <td>Montes Claros (MG)</td>\n",
       "      <td>-16,62</td>\n",
       "      <td>-43,93</td>\n",
       "      <td>Pinus</td>\n",
       "      <td>0.0</td>\n",
       "      <td>0.0</td>\n",
       "      <td>Baixo</td>\n",
       "    </tr>\n",
       "    <tr>\n",
       "      <th>8313</th>\n",
       "      <td>31/12/2014</td>\n",
       "      <td>Brasil</td>\n",
       "      <td>Sudeste</td>\n",
       "      <td>Minas Gerais</td>\n",
       "      <td>MG</td>\n",
       "      <td>Montes Claros</td>\n",
       "      <td>Montes Claros (MG)</td>\n",
       "      <td>-16,62</td>\n",
       "      <td>-43,93</td>\n",
       "      <td>Outras espécies</td>\n",
       "      <td>0.0</td>\n",
       "      <td>0.0</td>\n",
       "      <td>Baixo</td>\n",
       "    </tr>\n",
       "    <tr>\n",
       "      <th>8314</th>\n",
       "      <td>31/12/2015</td>\n",
       "      <td>Brasil</td>\n",
       "      <td>Sudeste</td>\n",
       "      <td>Minas Gerais</td>\n",
       "      <td>MG</td>\n",
       "      <td>Montes Claros</td>\n",
       "      <td>Montes Claros (MG)</td>\n",
       "      <td>-16,62</td>\n",
       "      <td>-43,93</td>\n",
       "      <td>Outras espécies</td>\n",
       "      <td>0.0</td>\n",
       "      <td>0.0</td>\n",
       "      <td>Baixo</td>\n",
       "    </tr>\n",
       "    <tr>\n",
       "      <th>8315</th>\n",
       "      <td>31/12/2016</td>\n",
       "      <td>Brasil</td>\n",
       "      <td>Sudeste</td>\n",
       "      <td>Minas Gerais</td>\n",
       "      <td>MG</td>\n",
       "      <td>Montes Claros</td>\n",
       "      <td>Montes Claros (MG)</td>\n",
       "      <td>-16,62</td>\n",
       "      <td>-43,93</td>\n",
       "      <td>Outras espécies</td>\n",
       "      <td>0.0</td>\n",
       "      <td>0.0</td>\n",
       "      <td>Baixo</td>\n",
       "    </tr>\n",
       "  </tbody>\n",
       "</table>\n",
       "</div>"
      ],
      "text/plain": [
       "      Ano (data)    País   Região        Estado Estado sigla  \\\n",
       "8307  31/12/2014  Brasil  Sudeste  Minas Gerais           MG   \n",
       "8308  31/12/2015  Brasil  Sudeste  Minas Gerais           MG   \n",
       "8309  31/12/2016  Brasil  Sudeste  Minas Gerais           MG   \n",
       "8310  31/12/2014  Brasil  Sudeste  Minas Gerais           MG   \n",
       "8311  31/12/2015  Brasil  Sudeste  Minas Gerais           MG   \n",
       "8312  31/12/2016  Brasil  Sudeste  Minas Gerais           MG   \n",
       "8313  31/12/2014  Brasil  Sudeste  Minas Gerais           MG   \n",
       "8314  31/12/2015  Brasil  Sudeste  Minas Gerais           MG   \n",
       "8315  31/12/2016  Brasil  Sudeste  Minas Gerais           MG   \n",
       "\n",
       "     Município (Municípios)    Município Estado Latitude Longitude  \\\n",
       "8307          Montes Claros  Montes Claros (MG)   -16,62    -43,93   \n",
       "8308          Montes Claros  Montes Claros (MG)   -16,62    -43,93   \n",
       "8309          Montes Claros  Montes Claros (MG)   -16,62    -43,93   \n",
       "8310          Montes Claros  Montes Claros (MG)   -16,62    -43,93   \n",
       "8311          Montes Claros  Montes Claros (MG)   -16,62    -43,93   \n",
       "8312          Montes Claros  Montes Claros (MG)   -16,62    -43,93   \n",
       "8313          Montes Claros  Montes Claros (MG)   -16,62    -43,93   \n",
       "8314          Montes Claros  Montes Claros (MG)   -16,62    -43,93   \n",
       "8315          Montes Claros  Montes Claros (MG)   -16,62    -43,93   \n",
       "\n",
       "     Espécie florestal  Área (ha)  Nova coluna  Nível  \n",
       "8307         Eucalipto     7900.0     790000.0  Baixo  \n",
       "8308         Eucalipto     9585.0     958500.0  Baixo  \n",
       "8309         Eucalipto     9250.0     925000.0  Baixo  \n",
       "8310             Pinus        0.0          0.0  Baixo  \n",
       "8311             Pinus        0.0          0.0  Baixo  \n",
       "8312             Pinus        0.0          0.0  Baixo  \n",
       "8313   Outras espécies        0.0          0.0  Baixo  \n",
       "8314   Outras espécies        0.0          0.0  Baixo  \n",
       "8315   Outras espécies        0.0          0.0  Baixo  "
      ]
     },
     "execution_count": 78,
     "metadata": {},
     "output_type": "execute_result"
    }
   ],
   "source": [
    "# buscando registros por string\n",
    "df[df['Município (Municípios)'].str.contains('Montes Claros')]"
   ]
  },
  {
   "cell_type": "code",
   "execution_count": 80,
   "metadata": {
    "id": "9ufYhkceSQ-V"
   },
   "outputs": [
    {
     "data": {
      "text/plain": [
       "array(['Montes Claros'], dtype=object)"
      ]
     },
     "execution_count": 80,
     "metadata": {},
     "output_type": "execute_result"
    }
   ],
   "source": [
    "df[df['Município (Municípios)'].str.contains('Montes Claros')]['Município (Municípios)'].unique()"
   ]
  },
  {
   "cell_type": "code",
   "execution_count": 81,
   "metadata": {},
   "outputs": [
    {
     "data": {
      "text/plain": [
       "numpy.ndarray"
      ]
     },
     "execution_count": 81,
     "metadata": {},
     "output_type": "execute_result"
    }
   ],
   "source": [
    "type(df[df['Município (Municípios)'].str.contains('Montes Claros')]['Município (Municípios)'].unique())"
   ]
  },
  {
   "cell_type": "code",
   "execution_count": 83,
   "metadata": {
    "id": "J5hq74IFZLay"
   },
   "outputs": [
    {
     "data": {
      "text/plain": [
       "0            Alta\n",
       "1            Alta\n",
       "2            Alta\n",
       "3            Alta\n",
       "4            Alta\n",
       "           ...   \n",
       "31009    Brasília\n",
       "31010    Brasília\n",
       "31011    Brasília\n",
       "31012    Brasília\n",
       "31013    Brasília\n",
       "Name: Município (Municípios), Length: 31014, dtype: object"
      ]
     },
     "execution_count": 83,
     "metadata": {},
     "output_type": "execute_result"
    }
   ],
   "source": [
    "# selecionando o primeiro nome de uma variavel do tipo string\n",
    "df['Município (Municípios)'].str.split().str.get(0)"
   ]
  },
  {
   "cell_type": "code",
   "execution_count": 84,
   "metadata": {
    "id": "90lYsL2mZLTC"
   },
   "outputs": [
    {
     "data": {
      "text/plain": [
       "array(['Norte', 'Nordeste', 'Sudeste', 'Sul', 'Centro Oeste'],\n",
       "      dtype=object)"
      ]
     },
     "execution_count": 84,
     "metadata": {},
     "output_type": "execute_result"
    }
   ],
   "source": [
    "# selecionando o valor distinto variavel do tipo string\n",
    "df['Região'].unique()"
   ]
  },
  {
   "cell_type": "code",
   "execution_count": 85,
   "metadata": {
    "id": "SxxKtrEoTmuz"
   },
   "outputs": [
    {
     "data": {
      "text/plain": [
       "array(['RO', 'RR', 'PA', 'AP', 'TO', 'MA', 'PI', 'CE', 'RN', 'PB', 'PE',\n",
       "       'AL', 'SE', 'BA', 'MG', 'ES', 'RJ', 'SP', 'PR', 'SC', 'RS', 'MS',\n",
       "       'MT', 'GO', 'DF'], dtype=object)"
      ]
     },
     "execution_count": 85,
     "metadata": {},
     "output_type": "execute_result"
    }
   ],
   "source": [
    "df['Estado sigla'].unique()"
   ]
  },
  {
   "cell_type": "code",
   "execution_count": 88,
   "metadata": {
    "id": "gtW-4gkM6Jhi"
   },
   "outputs": [
    {
     "data": {
      "text/html": [
       "<div>\n",
       "<style scoped>\n",
       "    .dataframe tbody tr th:only-of-type {\n",
       "        vertical-align: middle;\n",
       "    }\n",
       "\n",
       "    .dataframe tbody tr th {\n",
       "        vertical-align: top;\n",
       "    }\n",
       "\n",
       "    .dataframe thead th {\n",
       "        text-align: right;\n",
       "    }\n",
       "</style>\n",
       "<table border=\"1\" class=\"dataframe\">\n",
       "  <thead>\n",
       "    <tr style=\"text-align: right;\">\n",
       "      <th></th>\n",
       "      <th>Ano (data)</th>\n",
       "      <th>País</th>\n",
       "      <th>Região</th>\n",
       "      <th>Estado</th>\n",
       "      <th>Estado sigla</th>\n",
       "      <th>Município (Municípios)</th>\n",
       "      <th>Município Estado</th>\n",
       "      <th>Latitude</th>\n",
       "      <th>Longitude</th>\n",
       "      <th>Espécie florestal</th>\n",
       "      <th>Área (ha)</th>\n",
       "    </tr>\n",
       "  </thead>\n",
       "  <tbody>\n",
       "    <tr>\n",
       "      <th>0</th>\n",
       "      <td>31/12/2014</td>\n",
       "      <td>Brasil</td>\n",
       "      <td>Norte</td>\n",
       "      <td>Rondônia</td>\n",
       "      <td>RO</td>\n",
       "      <td>Alta Floresta D'Oeste</td>\n",
       "      <td>Alta Floresta D'Oeste (RO)</td>\n",
       "      <td>-12,47</td>\n",
       "      <td>-62,27</td>\n",
       "      <td>Eucalipto</td>\n",
       "      <td>0.0</td>\n",
       "    </tr>\n",
       "    <tr>\n",
       "      <th>1</th>\n",
       "      <td>31/12/2015</td>\n",
       "      <td>Brasil</td>\n",
       "      <td>Norte</td>\n",
       "      <td>Rondônia</td>\n",
       "      <td>RO</td>\n",
       "      <td>Alta Floresta D'Oeste</td>\n",
       "      <td>Alta Floresta D'Oeste (RO)</td>\n",
       "      <td>-12,47</td>\n",
       "      <td>-62,27</td>\n",
       "      <td>Eucalipto</td>\n",
       "      <td>0.0</td>\n",
       "    </tr>\n",
       "    <tr>\n",
       "      <th>2</th>\n",
       "      <td>31/12/2016</td>\n",
       "      <td>Brasil</td>\n",
       "      <td>Norte</td>\n",
       "      <td>Rondônia</td>\n",
       "      <td>RO</td>\n",
       "      <td>Alta Floresta D'Oeste</td>\n",
       "      <td>Alta Floresta D'Oeste (RO)</td>\n",
       "      <td>-12,47</td>\n",
       "      <td>-62,27</td>\n",
       "      <td>Eucalipto</td>\n",
       "      <td>0.0</td>\n",
       "    </tr>\n",
       "    <tr>\n",
       "      <th>3</th>\n",
       "      <td>31/12/2014</td>\n",
       "      <td>Brasil</td>\n",
       "      <td>Norte</td>\n",
       "      <td>Rondônia</td>\n",
       "      <td>RO</td>\n",
       "      <td>Alta Floresta D'Oeste</td>\n",
       "      <td>Alta Floresta D'Oeste (RO)</td>\n",
       "      <td>-12,47</td>\n",
       "      <td>-62,27</td>\n",
       "      <td>Pinus</td>\n",
       "      <td>0.0</td>\n",
       "    </tr>\n",
       "    <tr>\n",
       "      <th>4</th>\n",
       "      <td>31/12/2015</td>\n",
       "      <td>Brasil</td>\n",
       "      <td>Norte</td>\n",
       "      <td>Rondônia</td>\n",
       "      <td>RO</td>\n",
       "      <td>Alta Floresta D'Oeste</td>\n",
       "      <td>Alta Floresta D'Oeste (RO)</td>\n",
       "      <td>-12,47</td>\n",
       "      <td>-62,27</td>\n",
       "      <td>Pinus</td>\n",
       "      <td>0.0</td>\n",
       "    </tr>\n",
       "    <tr>\n",
       "      <th>...</th>\n",
       "      <td>...</td>\n",
       "      <td>...</td>\n",
       "      <td>...</td>\n",
       "      <td>...</td>\n",
       "      <td>...</td>\n",
       "      <td>...</td>\n",
       "      <td>...</td>\n",
       "      <td>...</td>\n",
       "      <td>...</td>\n",
       "      <td>...</td>\n",
       "      <td>...</td>\n",
       "    </tr>\n",
       "    <tr>\n",
       "      <th>31009</th>\n",
       "      <td>31/12/2015</td>\n",
       "      <td>Brasil</td>\n",
       "      <td>Centro Oeste</td>\n",
       "      <td>Distrito Federal</td>\n",
       "      <td>DF</td>\n",
       "      <td>Brasília</td>\n",
       "      <td>Brasília (DF)</td>\n",
       "      <td>-15,78</td>\n",
       "      <td>-47,8</td>\n",
       "      <td>Pinus</td>\n",
       "      <td>1000.0</td>\n",
       "    </tr>\n",
       "    <tr>\n",
       "      <th>31010</th>\n",
       "      <td>31/12/2016</td>\n",
       "      <td>Brasil</td>\n",
       "      <td>Centro Oeste</td>\n",
       "      <td>Distrito Federal</td>\n",
       "      <td>DF</td>\n",
       "      <td>Brasília</td>\n",
       "      <td>Brasília (DF)</td>\n",
       "      <td>-15,78</td>\n",
       "      <td>-47,8</td>\n",
       "      <td>Pinus</td>\n",
       "      <td>700.0</td>\n",
       "    </tr>\n",
       "    <tr>\n",
       "      <th>31011</th>\n",
       "      <td>31/12/2014</td>\n",
       "      <td>Brasil</td>\n",
       "      <td>Centro Oeste</td>\n",
       "      <td>Distrito Federal</td>\n",
       "      <td>DF</td>\n",
       "      <td>Brasília</td>\n",
       "      <td>Brasília (DF)</td>\n",
       "      <td>-15,78</td>\n",
       "      <td>-47,8</td>\n",
       "      <td>Outras espécies</td>\n",
       "      <td>0.0</td>\n",
       "    </tr>\n",
       "    <tr>\n",
       "      <th>31012</th>\n",
       "      <td>31/12/2015</td>\n",
       "      <td>Brasil</td>\n",
       "      <td>Centro Oeste</td>\n",
       "      <td>Distrito Federal</td>\n",
       "      <td>DF</td>\n",
       "      <td>Brasília</td>\n",
       "      <td>Brasília (DF)</td>\n",
       "      <td>-15,78</td>\n",
       "      <td>-47,8</td>\n",
       "      <td>Outras espécies</td>\n",
       "      <td>0.0</td>\n",
       "    </tr>\n",
       "    <tr>\n",
       "      <th>31013</th>\n",
       "      <td>31/12/2016</td>\n",
       "      <td>Brasil</td>\n",
       "      <td>Centro Oeste</td>\n",
       "      <td>Distrito Federal</td>\n",
       "      <td>DF</td>\n",
       "      <td>Brasília</td>\n",
       "      <td>Brasília (DF)</td>\n",
       "      <td>-15,78</td>\n",
       "      <td>-47,8</td>\n",
       "      <td>Outras espécies</td>\n",
       "      <td>0.0</td>\n",
       "    </tr>\n",
       "  </tbody>\n",
       "</table>\n",
       "<p>31014 rows × 11 columns</p>\n",
       "</div>"
      ],
      "text/plain": [
       "       Ano (data)    País        Região            Estado Estado sigla  \\\n",
       "0      31/12/2014  Brasil         Norte          Rondônia           RO   \n",
       "1      31/12/2015  Brasil         Norte          Rondônia           RO   \n",
       "2      31/12/2016  Brasil         Norte          Rondônia           RO   \n",
       "3      31/12/2014  Brasil         Norte          Rondônia           RO   \n",
       "4      31/12/2015  Brasil         Norte          Rondônia           RO   \n",
       "...           ...     ...           ...               ...          ...   \n",
       "31009  31/12/2015  Brasil  Centro Oeste  Distrito Federal           DF   \n",
       "31010  31/12/2016  Brasil  Centro Oeste  Distrito Federal           DF   \n",
       "31011  31/12/2014  Brasil  Centro Oeste  Distrito Federal           DF   \n",
       "31012  31/12/2015  Brasil  Centro Oeste  Distrito Federal           DF   \n",
       "31013  31/12/2016  Brasil  Centro Oeste  Distrito Federal           DF   \n",
       "\n",
       "      Município (Municípios)            Município Estado Latitude Longitude  \\\n",
       "0      Alta Floresta D'Oeste  Alta Floresta D'Oeste (RO)   -12,47    -62,27   \n",
       "1      Alta Floresta D'Oeste  Alta Floresta D'Oeste (RO)   -12,47    -62,27   \n",
       "2      Alta Floresta D'Oeste  Alta Floresta D'Oeste (RO)   -12,47    -62,27   \n",
       "3      Alta Floresta D'Oeste  Alta Floresta D'Oeste (RO)   -12,47    -62,27   \n",
       "4      Alta Floresta D'Oeste  Alta Floresta D'Oeste (RO)   -12,47    -62,27   \n",
       "...                      ...                         ...      ...       ...   \n",
       "31009               Brasília               Brasília (DF)   -15,78     -47,8   \n",
       "31010               Brasília               Brasília (DF)   -15,78     -47,8   \n",
       "31011               Brasília               Brasília (DF)   -15,78     -47,8   \n",
       "31012               Brasília               Brasília (DF)   -15,78     -47,8   \n",
       "31013               Brasília               Brasília (DF)   -15,78     -47,8   \n",
       "\n",
       "      Espécie florestal  Área (ha)  \n",
       "0             Eucalipto        0.0  \n",
       "1             Eucalipto        0.0  \n",
       "2             Eucalipto        0.0  \n",
       "3                 Pinus        0.0  \n",
       "4                 Pinus        0.0  \n",
       "...                 ...        ...  \n",
       "31009             Pinus     1000.0  \n",
       "31010             Pinus      700.0  \n",
       "31011   Outras espécies        0.0  \n",
       "31012   Outras espécies        0.0  \n",
       "31013   Outras espécies        0.0  \n",
       "\n",
       "[31014 rows x 11 columns]"
      ]
     },
     "execution_count": 88,
     "metadata": {},
     "output_type": "execute_result"
    }
   ],
   "source": [
    "# removendo colunas do dataframe\n",
    "df.drop(columns=['Nova coluna', 'Nível'])"
   ]
  },
  {
   "cell_type": "code",
   "execution_count": 99,
   "metadata": {
    "id": "mVl8vvCg6JeZ"
   },
   "outputs": [],
   "source": [
    "# renomeando colunas do dataframe\n",
    "df.rename(columns={\n",
    "    'Ano (data)':'ano (data)'}, inplace=True) #Dicionário e inplace efetiva"
   ]
  },
  {
   "cell_type": "code",
   "execution_count": 100,
   "metadata": {},
   "outputs": [
    {
     "data": {
      "text/html": [
       "<div>\n",
       "<style scoped>\n",
       "    .dataframe tbody tr th:only-of-type {\n",
       "        vertical-align: middle;\n",
       "    }\n",
       "\n",
       "    .dataframe tbody tr th {\n",
       "        vertical-align: top;\n",
       "    }\n",
       "\n",
       "    .dataframe thead th {\n",
       "        text-align: right;\n",
       "    }\n",
       "</style>\n",
       "<table border=\"1\" class=\"dataframe\">\n",
       "  <thead>\n",
       "    <tr style=\"text-align: right;\">\n",
       "      <th></th>\n",
       "      <th>ano (data)</th>\n",
       "      <th>País</th>\n",
       "      <th>Região</th>\n",
       "      <th>Estado</th>\n",
       "      <th>Estado sigla</th>\n",
       "      <th>Município (Municípios)</th>\n",
       "      <th>Município Estado</th>\n",
       "      <th>Latitude</th>\n",
       "      <th>Longitude</th>\n",
       "      <th>Espécie florestal</th>\n",
       "      <th>Área (ha)</th>\n",
       "      <th>Nova coluna</th>\n",
       "      <th>Nível</th>\n",
       "    </tr>\n",
       "  </thead>\n",
       "  <tbody>\n",
       "    <tr>\n",
       "      <th>0</th>\n",
       "      <td>31/12/2014</td>\n",
       "      <td>Brasil</td>\n",
       "      <td>Norte</td>\n",
       "      <td>Rondônia</td>\n",
       "      <td>RO</td>\n",
       "      <td>Alta Floresta D'Oeste</td>\n",
       "      <td>Alta Floresta D'Oeste (RO)</td>\n",
       "      <td>-12,47</td>\n",
       "      <td>-62,27</td>\n",
       "      <td>Eucalipto</td>\n",
       "      <td>0.0</td>\n",
       "      <td>0.0</td>\n",
       "      <td>Baixo</td>\n",
       "    </tr>\n",
       "    <tr>\n",
       "      <th>1</th>\n",
       "      <td>31/12/2015</td>\n",
       "      <td>Brasil</td>\n",
       "      <td>Norte</td>\n",
       "      <td>Rondônia</td>\n",
       "      <td>RO</td>\n",
       "      <td>Alta Floresta D'Oeste</td>\n",
       "      <td>Alta Floresta D'Oeste (RO)</td>\n",
       "      <td>-12,47</td>\n",
       "      <td>-62,27</td>\n",
       "      <td>Eucalipto</td>\n",
       "      <td>0.0</td>\n",
       "      <td>0.0</td>\n",
       "      <td>Baixo</td>\n",
       "    </tr>\n",
       "    <tr>\n",
       "      <th>2</th>\n",
       "      <td>31/12/2016</td>\n",
       "      <td>Brasil</td>\n",
       "      <td>Norte</td>\n",
       "      <td>Rondônia</td>\n",
       "      <td>RO</td>\n",
       "      <td>Alta Floresta D'Oeste</td>\n",
       "      <td>Alta Floresta D'Oeste (RO)</td>\n",
       "      <td>-12,47</td>\n",
       "      <td>-62,27</td>\n",
       "      <td>Eucalipto</td>\n",
       "      <td>0.0</td>\n",
       "      <td>0.0</td>\n",
       "      <td>Baixo</td>\n",
       "    </tr>\n",
       "    <tr>\n",
       "      <th>3</th>\n",
       "      <td>31/12/2014</td>\n",
       "      <td>Brasil</td>\n",
       "      <td>Norte</td>\n",
       "      <td>Rondônia</td>\n",
       "      <td>RO</td>\n",
       "      <td>Alta Floresta D'Oeste</td>\n",
       "      <td>Alta Floresta D'Oeste (RO)</td>\n",
       "      <td>-12,47</td>\n",
       "      <td>-62,27</td>\n",
       "      <td>Pinus</td>\n",
       "      <td>0.0</td>\n",
       "      <td>0.0</td>\n",
       "      <td>Baixo</td>\n",
       "    </tr>\n",
       "    <tr>\n",
       "      <th>4</th>\n",
       "      <td>31/12/2015</td>\n",
       "      <td>Brasil</td>\n",
       "      <td>Norte</td>\n",
       "      <td>Rondônia</td>\n",
       "      <td>RO</td>\n",
       "      <td>Alta Floresta D'Oeste</td>\n",
       "      <td>Alta Floresta D'Oeste (RO)</td>\n",
       "      <td>-12,47</td>\n",
       "      <td>-62,27</td>\n",
       "      <td>Pinus</td>\n",
       "      <td>0.0</td>\n",
       "      <td>0.0</td>\n",
       "      <td>Baixo</td>\n",
       "    </tr>\n",
       "  </tbody>\n",
       "</table>\n",
       "</div>"
      ],
      "text/plain": [
       "   ano (data)    País Região    Estado Estado sigla Município (Municípios)  \\\n",
       "0  31/12/2014  Brasil  Norte  Rondônia           RO  Alta Floresta D'Oeste   \n",
       "1  31/12/2015  Brasil  Norte  Rondônia           RO  Alta Floresta D'Oeste   \n",
       "2  31/12/2016  Brasil  Norte  Rondônia           RO  Alta Floresta D'Oeste   \n",
       "3  31/12/2014  Brasil  Norte  Rondônia           RO  Alta Floresta D'Oeste   \n",
       "4  31/12/2015  Brasil  Norte  Rondônia           RO  Alta Floresta D'Oeste   \n",
       "\n",
       "             Município Estado Latitude Longitude Espécie florestal  Área (ha)  \\\n",
       "0  Alta Floresta D'Oeste (RO)   -12,47    -62,27         Eucalipto        0.0   \n",
       "1  Alta Floresta D'Oeste (RO)   -12,47    -62,27         Eucalipto        0.0   \n",
       "2  Alta Floresta D'Oeste (RO)   -12,47    -62,27         Eucalipto        0.0   \n",
       "3  Alta Floresta D'Oeste (RO)   -12,47    -62,27             Pinus        0.0   \n",
       "4  Alta Floresta D'Oeste (RO)   -12,47    -62,27             Pinus        0.0   \n",
       "\n",
       "   Nova coluna  Nível  \n",
       "0          0.0  Baixo  \n",
       "1          0.0  Baixo  \n",
       "2          0.0  Baixo  \n",
       "3          0.0  Baixo  \n",
       "4          0.0  Baixo  "
      ]
     },
     "execution_count": 100,
     "metadata": {},
     "output_type": "execute_result"
    }
   ],
   "source": [
    "df.head()"
   ]
  },
  {
   "cell_type": "code",
   "execution_count": 102,
   "metadata": {
    "id": "NPyIYrVb6JbJ"
   },
   "outputs": [],
   "source": [
    "# ordenando os dado do dataframe\n",
    "df.sort_values('ano (data)', inplace=True)"
   ]
  },
  {
   "cell_type": "code",
   "execution_count": 103,
   "metadata": {
    "id": "GvmbcWyK9Ajr"
   },
   "outputs": [
    {
     "data": {
      "text/html": [
       "<div>\n",
       "<style scoped>\n",
       "    .dataframe tbody tr th:only-of-type {\n",
       "        vertical-align: middle;\n",
       "    }\n",
       "\n",
       "    .dataframe tbody tr th {\n",
       "        vertical-align: top;\n",
       "    }\n",
       "\n",
       "    .dataframe thead th {\n",
       "        text-align: right;\n",
       "    }\n",
       "</style>\n",
       "<table border=\"1\" class=\"dataframe\">\n",
       "  <thead>\n",
       "    <tr style=\"text-align: right;\">\n",
       "      <th></th>\n",
       "      <th>ano (data)</th>\n",
       "      <th>País</th>\n",
       "      <th>Região</th>\n",
       "      <th>Estado</th>\n",
       "      <th>Estado sigla</th>\n",
       "      <th>Município (Municípios)</th>\n",
       "      <th>Município Estado</th>\n",
       "      <th>Latitude</th>\n",
       "      <th>Longitude</th>\n",
       "      <th>Espécie florestal</th>\n",
       "      <th>Área (ha)</th>\n",
       "      <th>Nova coluna</th>\n",
       "      <th>Nível</th>\n",
       "    </tr>\n",
       "  </thead>\n",
       "  <tbody>\n",
       "    <tr>\n",
       "      <th>0</th>\n",
       "      <td>31/12/2014</td>\n",
       "      <td>Brasil</td>\n",
       "      <td>Norte</td>\n",
       "      <td>Rondônia</td>\n",
       "      <td>RO</td>\n",
       "      <td>Alta Floresta D'Oeste</td>\n",
       "      <td>Alta Floresta D'Oeste (RO)</td>\n",
       "      <td>-12,47</td>\n",
       "      <td>-62,27</td>\n",
       "      <td>Eucalipto</td>\n",
       "      <td>0.0</td>\n",
       "      <td>0.0</td>\n",
       "      <td>Baixo</td>\n",
       "    </tr>\n",
       "    <tr>\n",
       "      <th>12510</th>\n",
       "      <td>31/12/2014</td>\n",
       "      <td>Brasil</td>\n",
       "      <td>Sudeste</td>\n",
       "      <td>Rio de Janeiro</td>\n",
       "      <td>RJ</td>\n",
       "      <td>Rio das Ostras</td>\n",
       "      <td>Rio das Ostras (RJ)</td>\n",
       "      <td>-22,45</td>\n",
       "      <td>-41,95</td>\n",
       "      <td>Eucalipto</td>\n",
       "      <td>434.0</td>\n",
       "      <td>43400.0</td>\n",
       "      <td>Baixo</td>\n",
       "    </tr>\n",
       "    <tr>\n",
       "      <th>26841</th>\n",
       "      <td>31/12/2014</td>\n",
       "      <td>Brasil</td>\n",
       "      <td>Sul</td>\n",
       "      <td>Rio Grande do Sul</td>\n",
       "      <td>RS</td>\n",
       "      <td>Santo Antônio do Planalto</td>\n",
       "      <td>Santo Antônio do Planalto (RS)</td>\n",
       "      <td>-28,37</td>\n",
       "      <td>-52,68</td>\n",
       "      <td>Pinus</td>\n",
       "      <td>20.0</td>\n",
       "      <td>2000.0</td>\n",
       "      <td>Baixo</td>\n",
       "    </tr>\n",
       "    <tr>\n",
       "      <th>12513</th>\n",
       "      <td>31/12/2014</td>\n",
       "      <td>Brasil</td>\n",
       "      <td>Sudeste</td>\n",
       "      <td>Rio de Janeiro</td>\n",
       "      <td>RJ</td>\n",
       "      <td>Rio das Ostras</td>\n",
       "      <td>Rio das Ostras (RJ)</td>\n",
       "      <td>-22,45</td>\n",
       "      <td>-41,95</td>\n",
       "      <td>Pinus</td>\n",
       "      <td>0.0</td>\n",
       "      <td>0.0</td>\n",
       "      <td>Baixo</td>\n",
       "    </tr>\n",
       "    <tr>\n",
       "      <th>12516</th>\n",
       "      <td>31/12/2014</td>\n",
       "      <td>Brasil</td>\n",
       "      <td>Sudeste</td>\n",
       "      <td>Rio de Janeiro</td>\n",
       "      <td>RJ</td>\n",
       "      <td>Rio das Ostras</td>\n",
       "      <td>Rio das Ostras (RJ)</td>\n",
       "      <td>-22,45</td>\n",
       "      <td>-41,95</td>\n",
       "      <td>Outras espécies</td>\n",
       "      <td>0.0</td>\n",
       "      <td>0.0</td>\n",
       "      <td>Baixo</td>\n",
       "    </tr>\n",
       "  </tbody>\n",
       "</table>\n",
       "</div>"
      ],
      "text/plain": [
       "       ano (data)    País   Região             Estado Estado sigla  \\\n",
       "0      31/12/2014  Brasil    Norte           Rondônia           RO   \n",
       "12510  31/12/2014  Brasil  Sudeste     Rio de Janeiro           RJ   \n",
       "26841  31/12/2014  Brasil      Sul  Rio Grande do Sul           RS   \n",
       "12513  31/12/2014  Brasil  Sudeste     Rio de Janeiro           RJ   \n",
       "12516  31/12/2014  Brasil  Sudeste     Rio de Janeiro           RJ   \n",
       "\n",
       "          Município (Municípios)                Município Estado Latitude  \\\n",
       "0          Alta Floresta D'Oeste      Alta Floresta D'Oeste (RO)   -12,47   \n",
       "12510             Rio das Ostras             Rio das Ostras (RJ)   -22,45   \n",
       "26841  Santo Antônio do Planalto  Santo Antônio do Planalto (RS)   -28,37   \n",
       "12513             Rio das Ostras             Rio das Ostras (RJ)   -22,45   \n",
       "12516             Rio das Ostras             Rio das Ostras (RJ)   -22,45   \n",
       "\n",
       "      Longitude Espécie florestal  Área (ha)  Nova coluna  Nível  \n",
       "0        -62,27         Eucalipto        0.0          0.0  Baixo  \n",
       "12510    -41,95         Eucalipto      434.0      43400.0  Baixo  \n",
       "26841    -52,68             Pinus       20.0       2000.0  Baixo  \n",
       "12513    -41,95             Pinus        0.0          0.0  Baixo  \n",
       "12516    -41,95   Outras espécies        0.0          0.0  Baixo  "
      ]
     },
     "execution_count": 103,
     "metadata": {},
     "output_type": "execute_result"
    }
   ],
   "source": [
    "df.head()"
   ]
  },
  {
   "cell_type": "code",
   "execution_count": 107,
   "metadata": {
    "id": "hCoc6h9QVm7j"
   },
   "outputs": [],
   "source": [
    "df.reset_index(drop=True, inplace=True) #reseta p index"
   ]
  },
  {
   "cell_type": "code",
   "execution_count": 108,
   "metadata": {},
   "outputs": [
    {
     "data": {
      "text/html": [
       "<div>\n",
       "<style scoped>\n",
       "    .dataframe tbody tr th:only-of-type {\n",
       "        vertical-align: middle;\n",
       "    }\n",
       "\n",
       "    .dataframe tbody tr th {\n",
       "        vertical-align: top;\n",
       "    }\n",
       "\n",
       "    .dataframe thead th {\n",
       "        text-align: right;\n",
       "    }\n",
       "</style>\n",
       "<table border=\"1\" class=\"dataframe\">\n",
       "  <thead>\n",
       "    <tr style=\"text-align: right;\">\n",
       "      <th></th>\n",
       "      <th>ano (data)</th>\n",
       "      <th>País</th>\n",
       "      <th>Região</th>\n",
       "      <th>Estado</th>\n",
       "      <th>Estado sigla</th>\n",
       "      <th>Município (Municípios)</th>\n",
       "      <th>Município Estado</th>\n",
       "      <th>Latitude</th>\n",
       "      <th>Longitude</th>\n",
       "      <th>Espécie florestal</th>\n",
       "      <th>Área (ha)</th>\n",
       "      <th>Nova coluna</th>\n",
       "      <th>Nível</th>\n",
       "    </tr>\n",
       "  </thead>\n",
       "  <tbody>\n",
       "    <tr>\n",
       "      <th>0</th>\n",
       "      <td>31/12/2014</td>\n",
       "      <td>Brasil</td>\n",
       "      <td>Norte</td>\n",
       "      <td>Rondônia</td>\n",
       "      <td>RO</td>\n",
       "      <td>Alta Floresta D'Oeste</td>\n",
       "      <td>Alta Floresta D'Oeste (RO)</td>\n",
       "      <td>-12,47</td>\n",
       "      <td>-62,27</td>\n",
       "      <td>Eucalipto</td>\n",
       "      <td>0.0</td>\n",
       "      <td>0.0</td>\n",
       "      <td>Baixo</td>\n",
       "    </tr>\n",
       "    <tr>\n",
       "      <th>1</th>\n",
       "      <td>31/12/2014</td>\n",
       "      <td>Brasil</td>\n",
       "      <td>Sudeste</td>\n",
       "      <td>Rio de Janeiro</td>\n",
       "      <td>RJ</td>\n",
       "      <td>Rio das Ostras</td>\n",
       "      <td>Rio das Ostras (RJ)</td>\n",
       "      <td>-22,45</td>\n",
       "      <td>-41,95</td>\n",
       "      <td>Eucalipto</td>\n",
       "      <td>434.0</td>\n",
       "      <td>43400.0</td>\n",
       "      <td>Baixo</td>\n",
       "    </tr>\n",
       "    <tr>\n",
       "      <th>2</th>\n",
       "      <td>31/12/2014</td>\n",
       "      <td>Brasil</td>\n",
       "      <td>Sul</td>\n",
       "      <td>Rio Grande do Sul</td>\n",
       "      <td>RS</td>\n",
       "      <td>Santo Antônio do Planalto</td>\n",
       "      <td>Santo Antônio do Planalto (RS)</td>\n",
       "      <td>-28,37</td>\n",
       "      <td>-52,68</td>\n",
       "      <td>Pinus</td>\n",
       "      <td>20.0</td>\n",
       "      <td>2000.0</td>\n",
       "      <td>Baixo</td>\n",
       "    </tr>\n",
       "    <tr>\n",
       "      <th>3</th>\n",
       "      <td>31/12/2014</td>\n",
       "      <td>Brasil</td>\n",
       "      <td>Sudeste</td>\n",
       "      <td>Rio de Janeiro</td>\n",
       "      <td>RJ</td>\n",
       "      <td>Rio das Ostras</td>\n",
       "      <td>Rio das Ostras (RJ)</td>\n",
       "      <td>-22,45</td>\n",
       "      <td>-41,95</td>\n",
       "      <td>Pinus</td>\n",
       "      <td>0.0</td>\n",
       "      <td>0.0</td>\n",
       "      <td>Baixo</td>\n",
       "    </tr>\n",
       "    <tr>\n",
       "      <th>4</th>\n",
       "      <td>31/12/2014</td>\n",
       "      <td>Brasil</td>\n",
       "      <td>Sudeste</td>\n",
       "      <td>Rio de Janeiro</td>\n",
       "      <td>RJ</td>\n",
       "      <td>Rio das Ostras</td>\n",
       "      <td>Rio das Ostras (RJ)</td>\n",
       "      <td>-22,45</td>\n",
       "      <td>-41,95</td>\n",
       "      <td>Outras espécies</td>\n",
       "      <td>0.0</td>\n",
       "      <td>0.0</td>\n",
       "      <td>Baixo</td>\n",
       "    </tr>\n",
       "  </tbody>\n",
       "</table>\n",
       "</div>"
      ],
      "text/plain": [
       "   ano (data)    País   Região             Estado Estado sigla  \\\n",
       "0  31/12/2014  Brasil    Norte           Rondônia           RO   \n",
       "1  31/12/2014  Brasil  Sudeste     Rio de Janeiro           RJ   \n",
       "2  31/12/2014  Brasil      Sul  Rio Grande do Sul           RS   \n",
       "3  31/12/2014  Brasil  Sudeste     Rio de Janeiro           RJ   \n",
       "4  31/12/2014  Brasil  Sudeste     Rio de Janeiro           RJ   \n",
       "\n",
       "      Município (Municípios)                Município Estado Latitude  \\\n",
       "0      Alta Floresta D'Oeste      Alta Floresta D'Oeste (RO)   -12,47   \n",
       "1             Rio das Ostras             Rio das Ostras (RJ)   -22,45   \n",
       "2  Santo Antônio do Planalto  Santo Antônio do Planalto (RS)   -28,37   \n",
       "3             Rio das Ostras             Rio das Ostras (RJ)   -22,45   \n",
       "4             Rio das Ostras             Rio das Ostras (RJ)   -22,45   \n",
       "\n",
       "  Longitude Espécie florestal  Área (ha)  Nova coluna  Nível  \n",
       "0    -62,27         Eucalipto        0.0          0.0  Baixo  \n",
       "1    -41,95         Eucalipto      434.0      43400.0  Baixo  \n",
       "2    -52,68             Pinus       20.0       2000.0  Baixo  \n",
       "3    -41,95             Pinus        0.0          0.0  Baixo  \n",
       "4    -41,95   Outras espécies        0.0          0.0  Baixo  "
      ]
     },
     "execution_count": 108,
     "metadata": {},
     "output_type": "execute_result"
    }
   ],
   "source": [
    "df.head()"
   ]
  },
  {
   "cell_type": "code",
   "execution_count": 113,
   "metadata": {
    "id": "_ylL6aRL6JVr"
   },
   "outputs": [],
   "source": [
    "# gravando os dados em arquivo csv\n",
    "df.to_csv('florestas.csv', index=False) #retira o index"
   ]
  },
  {
   "cell_type": "code",
   "execution_count": 114,
   "metadata": {
    "id": "qXz4JQPmWB0s"
   },
   "outputs": [],
   "source": [
    "# lendo um arquivo csv local\n",
    "florestas = pd.read_csv('florestas.csv')"
   ]
  },
  {
   "cell_type": "code",
   "execution_count": 115,
   "metadata": {
    "id": "az1kf_9DWJFn"
   },
   "outputs": [
    {
     "data": {
      "text/html": [
       "<div>\n",
       "<style scoped>\n",
       "    .dataframe tbody tr th:only-of-type {\n",
       "        vertical-align: middle;\n",
       "    }\n",
       "\n",
       "    .dataframe tbody tr th {\n",
       "        vertical-align: top;\n",
       "    }\n",
       "\n",
       "    .dataframe thead th {\n",
       "        text-align: right;\n",
       "    }\n",
       "</style>\n",
       "<table border=\"1\" class=\"dataframe\">\n",
       "  <thead>\n",
       "    <tr style=\"text-align: right;\">\n",
       "      <th></th>\n",
       "      <th>ano (data)</th>\n",
       "      <th>País</th>\n",
       "      <th>Região</th>\n",
       "      <th>Estado</th>\n",
       "      <th>Estado sigla</th>\n",
       "      <th>Município (Municípios)</th>\n",
       "      <th>Município Estado</th>\n",
       "      <th>Latitude</th>\n",
       "      <th>Longitude</th>\n",
       "      <th>Espécie florestal</th>\n",
       "      <th>Área (ha)</th>\n",
       "      <th>Nova coluna</th>\n",
       "      <th>Nível</th>\n",
       "    </tr>\n",
       "  </thead>\n",
       "  <tbody>\n",
       "    <tr>\n",
       "      <th>0</th>\n",
       "      <td>31/12/2014</td>\n",
       "      <td>Brasil</td>\n",
       "      <td>Norte</td>\n",
       "      <td>Rondônia</td>\n",
       "      <td>RO</td>\n",
       "      <td>Alta Floresta D'Oeste</td>\n",
       "      <td>Alta Floresta D'Oeste (RO)</td>\n",
       "      <td>-12,47</td>\n",
       "      <td>-62,27</td>\n",
       "      <td>Eucalipto</td>\n",
       "      <td>0.0</td>\n",
       "      <td>0.0</td>\n",
       "      <td>Baixo</td>\n",
       "    </tr>\n",
       "    <tr>\n",
       "      <th>1</th>\n",
       "      <td>31/12/2014</td>\n",
       "      <td>Brasil</td>\n",
       "      <td>Sudeste</td>\n",
       "      <td>Rio de Janeiro</td>\n",
       "      <td>RJ</td>\n",
       "      <td>Rio das Ostras</td>\n",
       "      <td>Rio das Ostras (RJ)</td>\n",
       "      <td>-22,45</td>\n",
       "      <td>-41,95</td>\n",
       "      <td>Eucalipto</td>\n",
       "      <td>434.0</td>\n",
       "      <td>43400.0</td>\n",
       "      <td>Baixo</td>\n",
       "    </tr>\n",
       "    <tr>\n",
       "      <th>2</th>\n",
       "      <td>31/12/2014</td>\n",
       "      <td>Brasil</td>\n",
       "      <td>Sul</td>\n",
       "      <td>Rio Grande do Sul</td>\n",
       "      <td>RS</td>\n",
       "      <td>Santo Antônio do Planalto</td>\n",
       "      <td>Santo Antônio do Planalto (RS)</td>\n",
       "      <td>-28,37</td>\n",
       "      <td>-52,68</td>\n",
       "      <td>Pinus</td>\n",
       "      <td>20.0</td>\n",
       "      <td>2000.0</td>\n",
       "      <td>Baixo</td>\n",
       "    </tr>\n",
       "    <tr>\n",
       "      <th>3</th>\n",
       "      <td>31/12/2014</td>\n",
       "      <td>Brasil</td>\n",
       "      <td>Sudeste</td>\n",
       "      <td>Rio de Janeiro</td>\n",
       "      <td>RJ</td>\n",
       "      <td>Rio das Ostras</td>\n",
       "      <td>Rio das Ostras (RJ)</td>\n",
       "      <td>-22,45</td>\n",
       "      <td>-41,95</td>\n",
       "      <td>Pinus</td>\n",
       "      <td>0.0</td>\n",
       "      <td>0.0</td>\n",
       "      <td>Baixo</td>\n",
       "    </tr>\n",
       "    <tr>\n",
       "      <th>4</th>\n",
       "      <td>31/12/2014</td>\n",
       "      <td>Brasil</td>\n",
       "      <td>Sudeste</td>\n",
       "      <td>Rio de Janeiro</td>\n",
       "      <td>RJ</td>\n",
       "      <td>Rio das Ostras</td>\n",
       "      <td>Rio das Ostras (RJ)</td>\n",
       "      <td>-22,45</td>\n",
       "      <td>-41,95</td>\n",
       "      <td>Outras espécies</td>\n",
       "      <td>0.0</td>\n",
       "      <td>0.0</td>\n",
       "      <td>Baixo</td>\n",
       "    </tr>\n",
       "  </tbody>\n",
       "</table>\n",
       "</div>"
      ],
      "text/plain": [
       "   ano (data)    País   Região             Estado Estado sigla  \\\n",
       "0  31/12/2014  Brasil    Norte           Rondônia           RO   \n",
       "1  31/12/2014  Brasil  Sudeste     Rio de Janeiro           RJ   \n",
       "2  31/12/2014  Brasil      Sul  Rio Grande do Sul           RS   \n",
       "3  31/12/2014  Brasil  Sudeste     Rio de Janeiro           RJ   \n",
       "4  31/12/2014  Brasil  Sudeste     Rio de Janeiro           RJ   \n",
       "\n",
       "      Município (Municípios)                Município Estado Latitude  \\\n",
       "0      Alta Floresta D'Oeste      Alta Floresta D'Oeste (RO)   -12,47   \n",
       "1             Rio das Ostras             Rio das Ostras (RJ)   -22,45   \n",
       "2  Santo Antônio do Planalto  Santo Antônio do Planalto (RS)   -28,37   \n",
       "3             Rio das Ostras             Rio das Ostras (RJ)   -22,45   \n",
       "4             Rio das Ostras             Rio das Ostras (RJ)   -22,45   \n",
       "\n",
       "  Longitude Espécie florestal  Área (ha)  Nova coluna  Nível  \n",
       "0    -62,27         Eucalipto        0.0          0.0  Baixo  \n",
       "1    -41,95         Eucalipto      434.0      43400.0  Baixo  \n",
       "2    -52,68             Pinus       20.0       2000.0  Baixo  \n",
       "3    -41,95             Pinus        0.0          0.0  Baixo  \n",
       "4    -41,95   Outras espécies        0.0          0.0  Baixo  "
      ]
     },
     "execution_count": 115,
     "metadata": {},
     "output_type": "execute_result"
    }
   ],
   "source": [
    "florestas.head()"
   ]
  },
  {
   "cell_type": "markdown",
   "metadata": {
    "id": "OPMRMK4LXFCt"
   },
   "source": [
    "### Outros Exemplos"
   ]
  },
  {
   "cell_type": "code",
   "execution_count": null,
   "metadata": {
    "id": "erhB2xzfXHfd"
   },
   "outputs": [],
   "source": []
  },
  {
   "cell_type": "code",
   "execution_count": null,
   "metadata": {
    "id": "Qn1pFY_VXNBT"
   },
   "outputs": [],
   "source": []
  },
  {
   "cell_type": "code",
   "execution_count": null,
   "metadata": {
    "id": "NJeRKSReXV59"
   },
   "outputs": [],
   "source": []
  },
  {
   "cell_type": "markdown",
   "metadata": {
    "id": "zJ6Ln__8Rct4"
   },
   "source": [
    "## Atividade"
   ]
  },
  {
   "cell_type": "markdown",
   "metadata": {
    "id": "AgFiZuwfUrFt"
   },
   "source": [
    "**Questão 1 -** Fazer a leitura dos dados da Sinaflor no link [Exploração de Floresta Plantada](https://dados.gov.br/dataset/sinaflor-exploracao-de-floresta-plantada) utilizando a biblioteca pandas do Python."
   ]
  },
  {
   "cell_type": "code",
   "execution_count": 11,
   "metadata": {
    "id": "1oWLiEpsReWS"
   },
   "outputs": [],
   "source": [
    "import pandas as pd"
   ]
  },
  {
   "cell_type": "code",
   "execution_count": 7,
   "metadata": {},
   "outputs": [
    {
     "ename": "ParserError",
     "evalue": "Error tokenizing data. C error: Expected 5 fields in line 15, saw 10\n",
     "output_type": "error",
     "traceback": [
      "\u001b[1;31m---------------------------------------------------------------------------\u001b[0m",
      "\u001b[1;31mParserError\u001b[0m                               Traceback (most recent call last)",
      "Input \u001b[1;32mIn [7]\u001b[0m, in \u001b[0;36m<cell line: 1>\u001b[1;34m()\u001b[0m\n\u001b[1;32m----> 1\u001b[0m df \u001b[38;5;241m=\u001b[39m \u001b[43mpd\u001b[49m\u001b[38;5;241;43m.\u001b[39;49m\u001b[43mread_csv\u001b[49m\u001b[43m(\u001b[49m\u001b[38;5;124;43m'\u001b[39;49m\u001b[38;5;124;43mhttps://dadosabertos.ibama.gov.br/dados/SINAFLOR/exploracaoFlorestaPlantada.csv\u001b[39;49m\u001b[38;5;124;43m'\u001b[39;49m\u001b[43m)\u001b[49m\n",
      "File \u001b[1;32m~\\Anaconda3\\lib\\site-packages\\pandas\\util\\_decorators.py:311\u001b[0m, in \u001b[0;36mdeprecate_nonkeyword_arguments.<locals>.decorate.<locals>.wrapper\u001b[1;34m(*args, **kwargs)\u001b[0m\n\u001b[0;32m    305\u001b[0m \u001b[38;5;28;01mif\u001b[39;00m \u001b[38;5;28mlen\u001b[39m(args) \u001b[38;5;241m>\u001b[39m num_allow_args:\n\u001b[0;32m    306\u001b[0m     warnings\u001b[38;5;241m.\u001b[39mwarn(\n\u001b[0;32m    307\u001b[0m         msg\u001b[38;5;241m.\u001b[39mformat(arguments\u001b[38;5;241m=\u001b[39marguments),\n\u001b[0;32m    308\u001b[0m         \u001b[38;5;167;01mFutureWarning\u001b[39;00m,\n\u001b[0;32m    309\u001b[0m         stacklevel\u001b[38;5;241m=\u001b[39mstacklevel,\n\u001b[0;32m    310\u001b[0m     )\n\u001b[1;32m--> 311\u001b[0m \u001b[38;5;28;01mreturn\u001b[39;00m func(\u001b[38;5;241m*\u001b[39margs, \u001b[38;5;241m*\u001b[39m\u001b[38;5;241m*\u001b[39mkwargs)\n",
      "File \u001b[1;32m~\\Anaconda3\\lib\\site-packages\\pandas\\io\\parsers\\readers.py:680\u001b[0m, in \u001b[0;36mread_csv\u001b[1;34m(filepath_or_buffer, sep, delimiter, header, names, index_col, usecols, squeeze, prefix, mangle_dupe_cols, dtype, engine, converters, true_values, false_values, skipinitialspace, skiprows, skipfooter, nrows, na_values, keep_default_na, na_filter, verbose, skip_blank_lines, parse_dates, infer_datetime_format, keep_date_col, date_parser, dayfirst, cache_dates, iterator, chunksize, compression, thousands, decimal, lineterminator, quotechar, quoting, doublequote, escapechar, comment, encoding, encoding_errors, dialect, error_bad_lines, warn_bad_lines, on_bad_lines, delim_whitespace, low_memory, memory_map, float_precision, storage_options)\u001b[0m\n\u001b[0;32m    665\u001b[0m kwds_defaults \u001b[38;5;241m=\u001b[39m _refine_defaults_read(\n\u001b[0;32m    666\u001b[0m     dialect,\n\u001b[0;32m    667\u001b[0m     delimiter,\n\u001b[1;32m   (...)\u001b[0m\n\u001b[0;32m    676\u001b[0m     defaults\u001b[38;5;241m=\u001b[39m{\u001b[38;5;124m\"\u001b[39m\u001b[38;5;124mdelimiter\u001b[39m\u001b[38;5;124m\"\u001b[39m: \u001b[38;5;124m\"\u001b[39m\u001b[38;5;124m,\u001b[39m\u001b[38;5;124m\"\u001b[39m},\n\u001b[0;32m    677\u001b[0m )\n\u001b[0;32m    678\u001b[0m kwds\u001b[38;5;241m.\u001b[39mupdate(kwds_defaults)\n\u001b[1;32m--> 680\u001b[0m \u001b[38;5;28;01mreturn\u001b[39;00m \u001b[43m_read\u001b[49m\u001b[43m(\u001b[49m\u001b[43mfilepath_or_buffer\u001b[49m\u001b[43m,\u001b[49m\u001b[43m \u001b[49m\u001b[43mkwds\u001b[49m\u001b[43m)\u001b[49m\n",
      "File \u001b[1;32m~\\Anaconda3\\lib\\site-packages\\pandas\\io\\parsers\\readers.py:581\u001b[0m, in \u001b[0;36m_read\u001b[1;34m(filepath_or_buffer, kwds)\u001b[0m\n\u001b[0;32m    578\u001b[0m     \u001b[38;5;28;01mreturn\u001b[39;00m parser\n\u001b[0;32m    580\u001b[0m \u001b[38;5;28;01mwith\u001b[39;00m parser:\n\u001b[1;32m--> 581\u001b[0m     \u001b[38;5;28;01mreturn\u001b[39;00m \u001b[43mparser\u001b[49m\u001b[38;5;241;43m.\u001b[39;49m\u001b[43mread\u001b[49m\u001b[43m(\u001b[49m\u001b[43mnrows\u001b[49m\u001b[43m)\u001b[49m\n",
      "File \u001b[1;32m~\\Anaconda3\\lib\\site-packages\\pandas\\io\\parsers\\readers.py:1254\u001b[0m, in \u001b[0;36mTextFileReader.read\u001b[1;34m(self, nrows)\u001b[0m\n\u001b[0;32m   1252\u001b[0m nrows \u001b[38;5;241m=\u001b[39m validate_integer(\u001b[38;5;124m\"\u001b[39m\u001b[38;5;124mnrows\u001b[39m\u001b[38;5;124m\"\u001b[39m, nrows)\n\u001b[0;32m   1253\u001b[0m \u001b[38;5;28;01mtry\u001b[39;00m:\n\u001b[1;32m-> 1254\u001b[0m     index, columns, col_dict \u001b[38;5;241m=\u001b[39m \u001b[38;5;28;43mself\u001b[39;49m\u001b[38;5;241;43m.\u001b[39;49m\u001b[43m_engine\u001b[49m\u001b[38;5;241;43m.\u001b[39;49m\u001b[43mread\u001b[49m\u001b[43m(\u001b[49m\u001b[43mnrows\u001b[49m\u001b[43m)\u001b[49m\n\u001b[0;32m   1255\u001b[0m \u001b[38;5;28;01mexcept\u001b[39;00m \u001b[38;5;167;01mException\u001b[39;00m:\n\u001b[0;32m   1256\u001b[0m     \u001b[38;5;28mself\u001b[39m\u001b[38;5;241m.\u001b[39mclose()\n",
      "File \u001b[1;32m~\\Anaconda3\\lib\\site-packages\\pandas\\io\\parsers\\c_parser_wrapper.py:225\u001b[0m, in \u001b[0;36mCParserWrapper.read\u001b[1;34m(self, nrows)\u001b[0m\n\u001b[0;32m    223\u001b[0m \u001b[38;5;28;01mtry\u001b[39;00m:\n\u001b[0;32m    224\u001b[0m     \u001b[38;5;28;01mif\u001b[39;00m \u001b[38;5;28mself\u001b[39m\u001b[38;5;241m.\u001b[39mlow_memory:\n\u001b[1;32m--> 225\u001b[0m         chunks \u001b[38;5;241m=\u001b[39m \u001b[38;5;28;43mself\u001b[39;49m\u001b[38;5;241;43m.\u001b[39;49m\u001b[43m_reader\u001b[49m\u001b[38;5;241;43m.\u001b[39;49m\u001b[43mread_low_memory\u001b[49m\u001b[43m(\u001b[49m\u001b[43mnrows\u001b[49m\u001b[43m)\u001b[49m\n\u001b[0;32m    226\u001b[0m         \u001b[38;5;66;03m# destructive to chunks\u001b[39;00m\n\u001b[0;32m    227\u001b[0m         data \u001b[38;5;241m=\u001b[39m _concatenate_chunks(chunks)\n",
      "File \u001b[1;32m~\\Anaconda3\\lib\\site-packages\\pandas\\_libs\\parsers.pyx:805\u001b[0m, in \u001b[0;36mpandas._libs.parsers.TextReader.read_low_memory\u001b[1;34m()\u001b[0m\n",
      "File \u001b[1;32m~\\Anaconda3\\lib\\site-packages\\pandas\\_libs\\parsers.pyx:861\u001b[0m, in \u001b[0;36mpandas._libs.parsers.TextReader._read_rows\u001b[1;34m()\u001b[0m\n",
      "File \u001b[1;32m~\\Anaconda3\\lib\\site-packages\\pandas\\_libs\\parsers.pyx:847\u001b[0m, in \u001b[0;36mpandas._libs.parsers.TextReader._tokenize_rows\u001b[1;34m()\u001b[0m\n",
      "File \u001b[1;32m~\\Anaconda3\\lib\\site-packages\\pandas\\_libs\\parsers.pyx:1960\u001b[0m, in \u001b[0;36mpandas._libs.parsers.raise_parser_error\u001b[1;34m()\u001b[0m\n",
      "\u001b[1;31mParserError\u001b[0m: Error tokenizing data. C error: Expected 5 fields in line 15, saw 10\n"
     ]
    }
   ],
   "source": [
    "# Dá erro pois o site não aceita a exportação\n",
    "df = pd.read_csv('https://dadosabertos.ibama.gov.br/dados/SINAFLOR/exploracaoFlorestaPlantada.csv')"
   ]
  },
  {
   "cell_type": "code",
   "execution_count": 14,
   "metadata": {},
   "outputs": [],
   "source": [
    "df = pd.read_csv('exploracaoFlorestaPlantada.csv',\n",
    "                 delimiter=';')"
   ]
  },
  {
   "cell_type": "code",
   "execution_count": 16,
   "metadata": {},
   "outputs": [
    {
     "data": {
      "text/html": [
       "<div>\n",
       "<style scoped>\n",
       "    .dataframe tbody tr th:only-of-type {\n",
       "        vertical-align: middle;\n",
       "    }\n",
       "\n",
       "    .dataframe tbody tr th {\n",
       "        vertical-align: top;\n",
       "    }\n",
       "\n",
       "    .dataframe thead th {\n",
       "        text-align: right;\n",
       "    }\n",
       "</style>\n",
       "<table border=\"1\" class=\"dataframe\">\n",
       "  <thead>\n",
       "    <tr style=\"text-align: right;\">\n",
       "      <th></th>\n",
       "      <th>UF</th>\n",
       "      <th>MUNICÍPIO</th>\n",
       "      <th>NOME DETENTOR</th>\n",
       "      <th>CPF/CNPJ DETENTOR</th>\n",
       "      <th>IMÓVEL RURAL VINCULADO</th>\n",
       "      <th>Nº CAR IMÓVEL RURAL</th>\n",
       "      <th>NOME EMPREENDIMENTO VINC</th>\n",
       "      <th>LATITUDE PONTO CENTR EMPREEND</th>\n",
       "      <th>LONGITUDE PONTO CENTR EMPREEND</th>\n",
       "      <th>ATIVIDADE</th>\n",
       "      <th>...</th>\n",
       "      <th>ERRO PADRÃO EXTRATO</th>\n",
       "      <th>INTERVALO CONFIANÇA EXTRATO</th>\n",
       "      <th>CRONOGRAMA EXPLOR ATIVIDADE</th>\n",
       "      <th>CRONOGRAMA EXPLORACAO MÊS/ANO</th>\n",
       "      <th>VOL EXPLORAR PRODUTO FLORESTAL</th>\n",
       "      <th>VOL EXPLORAR UNID MEDIDA</th>\n",
       "      <th>VOL EXPLORAR INI EXPLORAÇÃO</th>\n",
       "      <th>VOL EXPLORAR PERÍODO</th>\n",
       "      <th>VOL EXPLORAR VOLUME</th>\n",
       "      <th>ÚLTIMA ATUALIZAÇÃO RELATÓRIO</th>\n",
       "    </tr>\n",
       "  </thead>\n",
       "  <tbody>\n",
       "    <tr>\n",
       "      <th>0</th>\n",
       "      <td>AC</td>\n",
       "      <td>EPITACIOLANDIA</td>\n",
       "      <td>G. L. MAFFI</td>\n",
       "      <td>02.023.852/0001-20</td>\n",
       "      <td>Colônia Guaraciaba</td>\n",
       "      <td>AC-1200252-BFD72C288A5247C987F4888409D180A6</td>\n",
       "      <td>Paricá - Colônia Guaraciaba (Plantio)</td>\n",
       "      <td>NaN</td>\n",
       "      <td>NaN</td>\n",
       "      <td>Exploração de Floresta Plantada</td>\n",
       "      <td>...</td>\n",
       "      <td>NaN</td>\n",
       "      <td>NaN</td>\n",
       "      <td>NaN</td>\n",
       "      <td>01/02/2021</td>\n",
       "      <td>Lenha (st)</td>\n",
       "      <td>NaN</td>\n",
       "      <td>11/2021</td>\n",
       "      <td>NaN</td>\n",
       "      <td>23,0</td>\n",
       "      <td>15/09/2022 19:03</td>\n",
       "    </tr>\n",
       "    <tr>\n",
       "      <th>1</th>\n",
       "      <td>AC</td>\n",
       "      <td>EPITACIOLANDIA</td>\n",
       "      <td>G. L. MAFFI</td>\n",
       "      <td>02.023.852/0001-20</td>\n",
       "      <td>Colônia Guaraciaba</td>\n",
       "      <td>AC-1200252-BFD72C288A5247C987F4888409D180A6</td>\n",
       "      <td>Paricá - Colônia Guaraciaba (Plantio)</td>\n",
       "      <td>NaN</td>\n",
       "      <td>NaN</td>\n",
       "      <td>Exploração de Floresta Plantada</td>\n",
       "      <td>...</td>\n",
       "      <td>NaN</td>\n",
       "      <td>NaN</td>\n",
       "      <td>NaN</td>\n",
       "      <td>01/02/2021</td>\n",
       "      <td>Lenha (st)</td>\n",
       "      <td>NaN</td>\n",
       "      <td>11/2021</td>\n",
       "      <td>NaN</td>\n",
       "      <td>40,0</td>\n",
       "      <td>15/09/2022 19:03</td>\n",
       "    </tr>\n",
       "    <tr>\n",
       "      <th>2</th>\n",
       "      <td>AC</td>\n",
       "      <td>EPITACIOLANDIA</td>\n",
       "      <td>G. L. MAFFI</td>\n",
       "      <td>02.023.852/0001-20</td>\n",
       "      <td>Colônia Guaraciaba</td>\n",
       "      <td>AC-1200252-BFD72C288A5247C987F4888409D180A6</td>\n",
       "      <td>Paricá - Colônia Guaraciaba (Plantio)</td>\n",
       "      <td>NaN</td>\n",
       "      <td>NaN</td>\n",
       "      <td>Exploração de Floresta Plantada</td>\n",
       "      <td>...</td>\n",
       "      <td>NaN</td>\n",
       "      <td>NaN</td>\n",
       "      <td>NaN</td>\n",
       "      <td>01/02/2021</td>\n",
       "      <td>Lenha (st)</td>\n",
       "      <td>NaN</td>\n",
       "      <td>2/2021</td>\n",
       "      <td>NaN</td>\n",
       "      <td>23,0</td>\n",
       "      <td>15/09/2022 19:03</td>\n",
       "    </tr>\n",
       "    <tr>\n",
       "      <th>3</th>\n",
       "      <td>AC</td>\n",
       "      <td>EPITACIOLANDIA</td>\n",
       "      <td>G. L. MAFFI</td>\n",
       "      <td>02.023.852/0001-20</td>\n",
       "      <td>Colônia Guaraciaba</td>\n",
       "      <td>AC-1200252-BFD72C288A5247C987F4888409D180A6</td>\n",
       "      <td>Paricá - Colônia Guaraciaba (Plantio)</td>\n",
       "      <td>NaN</td>\n",
       "      <td>NaN</td>\n",
       "      <td>Exploração de Floresta Plantada</td>\n",
       "      <td>...</td>\n",
       "      <td>NaN</td>\n",
       "      <td>NaN</td>\n",
       "      <td>NaN</td>\n",
       "      <td>01/02/2021</td>\n",
       "      <td>Lenha (st)</td>\n",
       "      <td>NaN</td>\n",
       "      <td>2/2021</td>\n",
       "      <td>NaN</td>\n",
       "      <td>40,0</td>\n",
       "      <td>15/09/2022 19:03</td>\n",
       "    </tr>\n",
       "    <tr>\n",
       "      <th>4</th>\n",
       "      <td>AC</td>\n",
       "      <td>EPITACIOLANDIA</td>\n",
       "      <td>G. L. MAFFI</td>\n",
       "      <td>02.023.852/0001-20</td>\n",
       "      <td>Colônia Guaraciaba</td>\n",
       "      <td>AC-1200252-BFD72C288A5247C987F4888409D180A6</td>\n",
       "      <td>Paricá - Colônia Guaraciaba (Plantio)</td>\n",
       "      <td>NaN</td>\n",
       "      <td>NaN</td>\n",
       "      <td>Exploração de Floresta Plantada</td>\n",
       "      <td>...</td>\n",
       "      <td>NaN</td>\n",
       "      <td>NaN</td>\n",
       "      <td>NaN</td>\n",
       "      <td>01/02/2021</td>\n",
       "      <td>Lenha (st)</td>\n",
       "      <td>NaN</td>\n",
       "      <td>5/2021</td>\n",
       "      <td>NaN</td>\n",
       "      <td>23,0</td>\n",
       "      <td>15/09/2022 19:03</td>\n",
       "    </tr>\n",
       "  </tbody>\n",
       "</table>\n",
       "<p>5 rows × 75 columns</p>\n",
       "</div>"
      ],
      "text/plain": [
       "   UF       MUNICÍPIO NOME DETENTOR   CPF/CNPJ DETENTOR  \\\n",
       "0  AC  EPITACIOLANDIA   G. L. MAFFI  02.023.852/0001-20   \n",
       "1  AC  EPITACIOLANDIA   G. L. MAFFI  02.023.852/0001-20   \n",
       "2  AC  EPITACIOLANDIA   G. L. MAFFI  02.023.852/0001-20   \n",
       "3  AC  EPITACIOLANDIA   G. L. MAFFI  02.023.852/0001-20   \n",
       "4  AC  EPITACIOLANDIA   G. L. MAFFI  02.023.852/0001-20   \n",
       "\n",
       "  IMÓVEL RURAL VINCULADO                          Nº CAR IMÓVEL RURAL  \\\n",
       "0     Colônia Guaraciaba  AC-1200252-BFD72C288A5247C987F4888409D180A6   \n",
       "1     Colônia Guaraciaba  AC-1200252-BFD72C288A5247C987F4888409D180A6   \n",
       "2     Colônia Guaraciaba  AC-1200252-BFD72C288A5247C987F4888409D180A6   \n",
       "3     Colônia Guaraciaba  AC-1200252-BFD72C288A5247C987F4888409D180A6   \n",
       "4     Colônia Guaraciaba  AC-1200252-BFD72C288A5247C987F4888409D180A6   \n",
       "\n",
       "                NOME EMPREENDIMENTO VINC  LATITUDE PONTO CENTR EMPREEND  \\\n",
       "0  Paricá - Colônia Guaraciaba (Plantio)                            NaN   \n",
       "1  Paricá - Colônia Guaraciaba (Plantio)                            NaN   \n",
       "2  Paricá - Colônia Guaraciaba (Plantio)                            NaN   \n",
       "3  Paricá - Colônia Guaraciaba (Plantio)                            NaN   \n",
       "4  Paricá - Colônia Guaraciaba (Plantio)                            NaN   \n",
       "\n",
       "   LONGITUDE PONTO CENTR EMPREEND                        ATIVIDADE  ...  \\\n",
       "0                             NaN  Exploração de Floresta Plantada  ...   \n",
       "1                             NaN  Exploração de Floresta Plantada  ...   \n",
       "2                             NaN  Exploração de Floresta Plantada  ...   \n",
       "3                             NaN  Exploração de Floresta Plantada  ...   \n",
       "4                             NaN  Exploração de Floresta Plantada  ...   \n",
       "\n",
       "  ERRO PADRÃO EXTRATO INTERVALO CONFIANÇA EXTRATO CRONOGRAMA EXPLOR ATIVIDADE  \\\n",
       "0                 NaN                         NaN                         NaN   \n",
       "1                 NaN                         NaN                         NaN   \n",
       "2                 NaN                         NaN                         NaN   \n",
       "3                 NaN                         NaN                         NaN   \n",
       "4                 NaN                         NaN                         NaN   \n",
       "\n",
       "  CRONOGRAMA EXPLORACAO MÊS/ANO VOL EXPLORAR PRODUTO FLORESTAL  \\\n",
       "0                    01/02/2021                     Lenha (st)   \n",
       "1                    01/02/2021                     Lenha (st)   \n",
       "2                    01/02/2021                     Lenha (st)   \n",
       "3                    01/02/2021                     Lenha (st)   \n",
       "4                    01/02/2021                     Lenha (st)   \n",
       "\n",
       "  VOL EXPLORAR UNID MEDIDA VOL EXPLORAR INI EXPLORAÇÃO VOL EXPLORAR PERÍODO  \\\n",
       "0                      NaN                     11/2021                  NaN   \n",
       "1                      NaN                     11/2021                  NaN   \n",
       "2                      NaN                      2/2021                  NaN   \n",
       "3                      NaN                      2/2021                  NaN   \n",
       "4                      NaN                      5/2021                  NaN   \n",
       "\n",
       "  VOL EXPLORAR VOLUME ÚLTIMA ATUALIZAÇÃO RELATÓRIO  \n",
       "0                23,0             15/09/2022 19:03  \n",
       "1                40,0             15/09/2022 19:03  \n",
       "2                23,0             15/09/2022 19:03  \n",
       "3                40,0             15/09/2022 19:03  \n",
       "4                23,0             15/09/2022 19:03  \n",
       "\n",
       "[5 rows x 75 columns]"
      ]
     },
     "execution_count": 16,
     "metadata": {},
     "output_type": "execute_result"
    }
   ],
   "source": [
    "df.head()"
   ]
  },
  {
   "cell_type": "markdown",
   "metadata": {
    "id": "oxW20r1UZg46"
   },
   "source": [
    "**Questão 2 -** Consultar as informações básicas do dataset carregado acima da **Exploração de Floresta Plantada**, conforme lista abaixo:\n",
    "*   Quantidade de registros\n",
    "*   Quantidade de colunas\n",
    "*   Listar as colunas dos dados\n",
    "*   Exibir as principais informações do conjunto de dados\n",
    "*   Listar as colunas com dados vazios\n"
   ]
  },
  {
   "cell_type": "code",
   "execution_count": 18,
   "metadata": {
    "id": "BR2eo0jaResk"
   },
   "outputs": [
    {
     "data": {
      "text/plain": [
       "(4410, 75)"
      ]
     },
     "execution_count": 18,
     "metadata": {},
     "output_type": "execute_result"
    }
   ],
   "source": [
    "df.shape"
   ]
  },
  {
   "cell_type": "code",
   "execution_count": 19,
   "metadata": {},
   "outputs": [
    {
     "data": {
      "text/plain": [
       "Index(['UF', 'MUNICÍPIO', 'NOME DETENTOR', 'CPF/CNPJ DETENTOR',\n",
       "       'IMÓVEL RURAL VINCULADO', 'Nº CAR IMÓVEL RURAL',\n",
       "       'NOME EMPREENDIMENTO VINC', 'LATITUDE PONTO CENTR EMPREEND',\n",
       "       'LONGITUDE PONTO CENTR EMPREEND', 'ATIVIDADE', 'TIPO DE EMPREENDIMENTO',\n",
       "       'Nº CONSELHO DE CLASSE RT', 'ATIVIDADE RT', 'DATA DE CADASTRO',\n",
       "       'SITUAÇÃO DA SOLICITAÇÃO EXPLOR', 'DATA DA SITUAÇÃO',\n",
       "       'COMPETÊNCIA DA AVALIAÇÃO', 'ÓRGÃO AMBIENTAL RESP ANÁLISE',\n",
       "       'Nº PROCESSO', 'Nº PROTOCOLO', 'NOME CIENTÍFICO', 'NOME POPULAR',\n",
       "       'ÁREA EFETIVO PLANTIO', 'ESPAÇAMENTO', 'TOTAL ÁRVORES', 'VOLUME',\n",
       "       'UNIDADE MEDIDA', 'ANO CORTE', 'OBSERVAÇÃO DADOS ATIVIDADE',\n",
       "       'OPERAÇÕES EFETUADAS', 'MÊS/ANO', 'OBSERV TRATOS SILVICULTURAIS',\n",
       "       'DESBATE REALIZADO', 'NÚMERO DESBASTE', 'DESBATE COMUNICADO',\n",
       "       'DESBASTE INTENSIDADE', 'PORCENTAGEM DO DESBASTE %',\n",
       "       'OBSERVAÇÃO DESBASTE', 'EQUAÇÃO VOLUME', 'PROCESSO AMOSTRAGEM',\n",
       "       'TIPO INVENTÁRIO', 'NÍVEL PROBABILIDADE', 'FORMA PARCELA',\n",
       "       'ÁREA TOTAL PROJ', 'ÁREA AMOSTRA', 'PRODUTO FLORESTAL',\n",
       "       'NOME CIENTÍFICO PF', 'NOME POPULAR PF', 'VOLUME(M³/ha)',\n",
       "       'AMOSTRAS LEVANTADAS', 'TOTAL PARCELAS', 'ÁREA INVENTARIADA', 'MÉDIA',\n",
       "       'MÉDIA HECTARES', 'DESVIO PADRÃO', 'VARIÂNCIA MÉDIA', 'ERRO PADRÃO',\n",
       "       'COEFICIENTE VARIACAO', 'VARIÂNCIA MÉDIA REL', 'INTERVALO CONFIANÇA',\n",
       "       'Nº EXTRATO', 'TOTAL UNIDADES', 'VOL MÉDIO EXTRATO',\n",
       "       'VOL MÉDIO EXTRATIFICADA', 'VARIÂNCIA EXTRATO', 'ERRO PADRÃO EXTRATO',\n",
       "       'INTERVALO CONFIANÇA EXTRATO', 'CRONOGRAMA EXPLOR ATIVIDADE',\n",
       "       'CRONOGRAMA EXPLORACAO MÊS/ANO', 'VOL EXPLORAR PRODUTO FLORESTAL',\n",
       "       'VOL EXPLORAR UNID MEDIDA', 'VOL EXPLORAR INI EXPLORAÇÃO',\n",
       "       'VOL EXPLORAR PERÍODO', 'VOL EXPLORAR VOLUME',\n",
       "       'ÚLTIMA ATUALIZAÇÃO RELATÓRIO'],\n",
       "      dtype='object')"
      ]
     },
     "execution_count": 19,
     "metadata": {},
     "output_type": "execute_result"
    }
   ],
   "source": [
    "df.columns #mostra colunas"
   ]
  },
  {
   "cell_type": "code",
   "execution_count": 20,
   "metadata": {},
   "outputs": [
    {
     "name": "stdout",
     "output_type": "stream",
     "text": [
      "<class 'pandas.core.frame.DataFrame'>\n",
      "RangeIndex: 4410 entries, 0 to 4409\n",
      "Data columns (total 75 columns):\n",
      " #   Column                          Non-Null Count  Dtype  \n",
      "---  ------                          --------------  -----  \n",
      " 0   UF                              4410 non-null   object \n",
      " 1   MUNICÍPIO                       4406 non-null   object \n",
      " 2   NOME DETENTOR                   4405 non-null   object \n",
      " 3   CPF/CNPJ DETENTOR               4400 non-null   object \n",
      " 4   IMÓVEL RURAL VINCULADO          4410 non-null   object \n",
      " 5   Nº CAR IMÓVEL RURAL             4400 non-null   object \n",
      " 6   NOME EMPREENDIMENTO VINC        4410 non-null   object \n",
      " 7   LATITUDE PONTO CENTR EMPREEND   0 non-null      float64\n",
      " 8   LONGITUDE PONTO CENTR EMPREEND  0 non-null      float64\n",
      " 9   ATIVIDADE                       4410 non-null   object \n",
      " 10  TIPO DE EMPREENDIMENTO          4344 non-null   object \n",
      " 11  Nº CONSELHO DE CLASSE RT        2830 non-null   object \n",
      " 12  ATIVIDADE RT                    2830 non-null   object \n",
      " 13  DATA DE CADASTRO                4410 non-null   object \n",
      " 14  SITUAÇÃO DA SOLICITAÇÃO EXPLOR  4410 non-null   object \n",
      " 15  DATA DA SITUAÇÃO                4410 non-null   object \n",
      " 16  COMPETÊNCIA DA AVALIAÇÃO        4404 non-null   object \n",
      " 17  ÓRGÃO AMBIENTAL RESP ANÁLISE    4400 non-null   object \n",
      " 18  Nº PROCESSO                     1531 non-null   object \n",
      " 19  Nº PROTOCOLO                    977 non-null    object \n",
      " 20  NOME CIENTÍFICO                 360 non-null    object \n",
      " 21  NOME POPULAR                    345 non-null    object \n",
      " 22  ÁREA EFETIVO PLANTIO            360 non-null    object \n",
      " 23  ESPAÇAMENTO                     360 non-null    object \n",
      " 24  TOTAL ÁRVORES                   360 non-null    object \n",
      " 25  VOLUME                          360 non-null    object \n",
      " 26  UNIDADE MEDIDA                  360 non-null    float64\n",
      " 27  ANO CORTE                       360 non-null    float64\n",
      " 28  OBSERVAÇÃO DADOS ATIVIDADE      160 non-null    object \n",
      " 29  OPERAÇÕES EFETUADAS             556 non-null    object \n",
      " 30  MÊS/ANO                         556 non-null    object \n",
      " 31  OBSERV TRATOS SILVICULTURAIS    225 non-null    object \n",
      " 32  DESBATE REALIZADO               4386 non-null   object \n",
      " 33  NÚMERO DESBASTE                 343 non-null    object \n",
      " 34  DESBATE COMUNICADO              4386 non-null   object \n",
      " 35  DESBASTE INTENSIDADE            308 non-null    object \n",
      " 36  PORCENTAGEM DO DESBASTE %       308 non-null    object \n",
      " 37  OBSERVAÇÃO DESBASTE             1863 non-null   object \n",
      " 38  EQUAÇÃO VOLUME                  4388 non-null   object \n",
      " 39  PROCESSO AMOSTRAGEM             4396 non-null   object \n",
      " 40  TIPO INVENTÁRIO                 4090 non-null   object \n",
      " 41  NÍVEL PROBABILIDADE             3983 non-null   object \n",
      " 42  FORMA PARCELA                   4039 non-null   float64\n",
      " 43  ÁREA TOTAL PROJ                 4295 non-null   object \n",
      " 44  ÁREA AMOSTRA                    3898 non-null   object \n",
      " 45  PRODUTO FLORESTAL               2682 non-null   object \n",
      " 46  NOME CIENTÍFICO PF              2220 non-null   object \n",
      " 47  NOME POPULAR PF                 2040 non-null   object \n",
      " 48  VOLUME(M³/ha)                   157 non-null    object \n",
      " 49  AMOSTRAS LEVANTADAS             0 non-null      float64\n",
      " 50  TOTAL PARCELAS                  0 non-null      float64\n",
      " 51  ÁREA INVENTARIADA               0 non-null      float64\n",
      " 52  MÉDIA                           157 non-null    object \n",
      " 53  MÉDIA HECTARES                  157 non-null    object \n",
      " 54  DESVIO PADRÃO                   157 non-null    object \n",
      " 55  VARIÂNCIA MÉDIA                 157 non-null    object \n",
      " 56  ERRO PADRÃO                     157 non-null    object \n",
      " 57  COEFICIENTE VARIACAO            157 non-null    object \n",
      " 58  VARIÂNCIA MÉDIA REL             157 non-null    object \n",
      " 59  INTERVALO CONFIANÇA             157 non-null    object \n",
      " 60  Nº EXTRATO                      0 non-null      float64\n",
      " 61  TOTAL UNIDADES                  1724 non-null   object \n",
      " 62  VOL MÉDIO EXTRATO               313 non-null    object \n",
      " 63  VOL MÉDIO EXTRATIFICADA         313 non-null    object \n",
      " 64  VARIÂNCIA EXTRATO               313 non-null    object \n",
      " 65  ERRO PADRÃO EXTRATO             313 non-null    object \n",
      " 66  INTERVALO CONFIANÇA EXTRATO     313 non-null    object \n",
      " 67  CRONOGRAMA EXPLOR ATIVIDADE     1343 non-null   object \n",
      " 68  CRONOGRAMA EXPLORACAO MÊS/ANO   3790 non-null   object \n",
      " 69  VOL EXPLORAR PRODUTO FLORESTAL  3790 non-null   object \n",
      " 70  VOL EXPLORAR UNID MEDIDA        0 non-null      float64\n",
      " 71  VOL EXPLORAR INI EXPLORAÇÃO     3770 non-null   object \n",
      " 72  VOL EXPLORAR PERÍODO            0 non-null      float64\n",
      " 73  VOL EXPLORAR VOLUME             3770 non-null   object \n",
      " 74  ÚLTIMA ATUALIZAÇÃO RELATÓRIO    4390 non-null   object \n",
      "dtypes: float64(11), object(64)\n",
      "memory usage: 2.5+ MB\n"
     ]
    }
   ],
   "source": [
    "df.info() #mostra principais informações"
   ]
  },
  {
   "cell_type": "code",
   "execution_count": 22,
   "metadata": {},
   "outputs": [
    {
     "data": {
      "text/plain": [
       "UF                                 0\n",
       "MUNICÍPIO                          4\n",
       "NOME DETENTOR                      5\n",
       "CPF/CNPJ DETENTOR                 10\n",
       "IMÓVEL RURAL VINCULADO             0\n",
       "                                ... \n",
       "VOL EXPLORAR UNID MEDIDA        4410\n",
       "VOL EXPLORAR INI EXPLORAÇÃO      640\n",
       "VOL EXPLORAR PERÍODO            4410\n",
       "VOL EXPLORAR VOLUME              640\n",
       "ÚLTIMA ATUALIZAÇÃO RELATÓRIO      20\n",
       "Length: 75, dtype: int64"
      ]
     },
     "execution_count": 22,
     "metadata": {},
     "output_type": "execute_result"
    }
   ],
   "source": [
    "df.isna().sum() #mostra dados nulos, caso queira os valores nulos coloco .values e .keys() mostra a coluna"
   ]
  },
  {
   "cell_type": "markdown",
   "metadata": {
    "id": "C6EKAmCCanjc"
   },
   "source": [
    "**Questão 3 -** Listar os estados presentes no dataset carregado acima da **Exploração de Floresta Plantada**."
   ]
  },
  {
   "cell_type": "code",
   "execution_count": 28,
   "metadata": {
    "id": "_DBvnWirReo4"
   },
   "outputs": [
    {
     "ename": "TypeError",
     "evalue": "'DataFrame' object is not callable",
     "output_type": "error",
     "traceback": [
      "\u001b[1;31m---------------------------------------------------------------------------\u001b[0m",
      "\u001b[1;31mTypeError\u001b[0m                                 Traceback (most recent call last)",
      "Input \u001b[1;32mIn [28]\u001b[0m, in \u001b[0;36m<cell line: 1>\u001b[1;34m()\u001b[0m\n\u001b[1;32m----> 1\u001b[0m \u001b[43mdf\u001b[49m\u001b[43m(\u001b[49m\u001b[38;5;124;43m'\u001b[39;49m\u001b[38;5;124;43mUF\u001b[39;49m\u001b[38;5;124;43m'\u001b[39;49m\u001b[43m)\u001b[49m\u001b[38;5;241m.\u001b[39munique()\n",
      "\u001b[1;31mTypeError\u001b[0m: 'DataFrame' object is not callable"
     ]
    }
   ],
   "source": [
    "df('UF').unique() #Deu algum tipo de erro"
   ]
  },
  {
   "cell_type": "markdown",
   "metadata": {
    "id": "NSSm5l6XQqEy"
   },
   "source": [
    "**Questão 4 -** Criar um diretório no GitHub com o notebook utilizado na aula e enviar o link do diretório publico."
   ]
  },
  {
   "cell_type": "code",
   "execution_count": null,
   "metadata": {
    "id": "-7_4gE9BaiqK"
   },
   "outputs": [],
   "source": [
    "Nome criado\n",
    "Aula_04_git"
   ]
  }
 ],
 "metadata": {
  "colab": {
   "collapsed_sections": [
    "J11TWEzIPqV4",
    "aIzrq3q8Pt8V",
    "VVj-kUanPvrO",
    "8RXo5si_QIpb",
    "OPMRMK4LXFCt"
   ],
   "provenance": []
  },
  "kernelspec": {
   "display_name": "Python 3 (ipykernel)",
   "language": "python",
   "name": "python3"
  },
  "language_info": {
   "codemirror_mode": {
    "name": "ipython",
    "version": 3
   },
   "file_extension": ".py",
   "mimetype": "text/x-python",
   "name": "python",
   "nbconvert_exporter": "python",
   "pygments_lexer": "ipython3",
   "version": "3.9.12"
  }
 },
 "nbformat": 4,
 "nbformat_minor": 1
}
